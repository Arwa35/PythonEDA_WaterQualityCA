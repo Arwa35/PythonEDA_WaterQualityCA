{
 "cells": [
  {
   "cell_type": "code",
   "execution_count": null,
   "id": "2ab986b8-f62a-4cc0-a05b-46f7a2309440",
   "metadata": {},
   "outputs": [],
   "source": []
  },
  {
   "cell_type": "markdown",
   "id": "98477fe6-b23c-48f6-8dea-c4eb846e1a1d",
   "metadata": {},
   "source": [
    "# Python Project \n",
    "### as of 24/2/25"
   ]
  },
  {
   "cell_type": "markdown",
   "id": "082383aa-1a2a-4963-ad02-c1aa706db711",
   "metadata": {},
   "source": [
    "# Importing pandas"
   ]
  },
  {
   "cell_type": "code",
   "execution_count": 264,
   "id": "1f96bf0f-893d-4914-a00c-cf732d67a31e",
   "metadata": {},
   "outputs": [],
   "source": [
    "import pandas as pd\n",
    "import datetime\n",
    "import matplotlib.pyplot as plt"
   ]
  },
  {
   "cell_type": "code",
   "execution_count": 265,
   "id": "9263c22d-b882-4b8f-8ed0-1f118da774ec",
   "metadata": {},
   "outputs": [],
   "source": [
    "data_df=pd.read_csv('geotracker_sites_2024-11-01(correct encoded).csv').copy()"
   ]
  },
  {
   "cell_type": "markdown",
   "id": "41854f94-7212-44d9-81fa-7dae2c546c4e",
   "metadata": {},
   "source": [
    "## Overlook of data set"
   ]
  },
  {
   "cell_type": "code",
   "execution_count": 266,
   "id": "ae23418f-b239-4555-8805-a6fc9ee284e4",
   "metadata": {},
   "outputs": [
    {
     "data": {
      "text/html": [
       "<div>\n",
       "<style scoped>\n",
       "    .dataframe tbody tr th:only-of-type {\n",
       "        vertical-align: middle;\n",
       "    }\n",
       "\n",
       "    .dataframe tbody tr th {\n",
       "        vertical-align: top;\n",
       "    }\n",
       "\n",
       "    .dataframe thead th {\n",
       "        text-align: right;\n",
       "    }\n",
       "</style>\n",
       "<table border=\"1\" class=\"dataframe\">\n",
       "  <thead>\n",
       "    <tr style=\"text-align: right;\">\n",
       "      <th></th>\n",
       "      <th>GLOBAL_ID</th>\n",
       "      <th>BUSINESS_NAME</th>\n",
       "      <th>STREET_NUMBER</th>\n",
       "      <th>STREET_NAME</th>\n",
       "      <th>CITY</th>\n",
       "      <th>STATE</th>\n",
       "      <th>ZIP</th>\n",
       "      <th>COUNTY</th>\n",
       "      <th>EPA_REGION</th>\n",
       "      <th>LATITUDE</th>\n",
       "      <th>...</th>\n",
       "      <th>STOP_DESCRIPTION</th>\n",
       "      <th>NO_FURTHER_ACTION_DATE</th>\n",
       "      <th>CALWATER_WATERSHED_NAME</th>\n",
       "      <th>DWR_GROUNDWATER_SUBBASIN_NAME</th>\n",
       "      <th>DISADVANTAGED_COMMUNITY</th>\n",
       "      <th>CALENVIROSCREEN3_SCORE</th>\n",
       "      <th>CALENVIROSCREEN4_SCORE</th>\n",
       "      <th>MILITARY_DOD_SITE</th>\n",
       "      <th>FACILITY_PROJECT_SUBTYPE</th>\n",
       "      <th>RWQCB_REGION</th>\n",
       "    </tr>\n",
       "  </thead>\n",
       "  <tbody>\n",
       "    <tr>\n",
       "      <th>0</th>\n",
       "      <td>DOD100186700</td>\n",
       "      <td>Fort Hunter Liggett - Fort Hunter Liggett - LA...</td>\n",
       "      <td>NaN</td>\n",
       "      <td>NaN</td>\n",
       "      <td>Jolon</td>\n",
       "      <td>CA</td>\n",
       "      <td>-93928</td>\n",
       "      <td>Monterey</td>\n",
       "      <td>9</td>\n",
       "      <td>35.975332</td>\n",
       "      <td>...</td>\n",
       "      <td>NaN</td>\n",
       "      <td>NaN</td>\n",
       "      <td>Salinas - Paso Robles - Atascadero (309.81)</td>\n",
       "      <td>Lockwood Valley (3-006)</td>\n",
       "      <td>NaN</td>\n",
       "      <td>41-45%</td>\n",
       "      <td>45-50%</td>\n",
       "      <td>Yes</td>\n",
       "      <td>NaN</td>\n",
       "      <td>CENTRAL COAST RWQCB (REGION 3)</td>\n",
       "    </tr>\n",
       "    <tr>\n",
       "      <th>1</th>\n",
       "      <td>T10000012752</td>\n",
       "      <td>McPhail's</td>\n",
       "      <td>975</td>\n",
       "      <td>Wright Street</td>\n",
       "      <td>Santa Rosa</td>\n",
       "      <td>CA</td>\n",
       "      <td>95407</td>\n",
       "      <td>Sonoma</td>\n",
       "      <td>9</td>\n",
       "      <td>38.452190</td>\n",
       "      <td>...</td>\n",
       "      <td>NaN</td>\n",
       "      <td>NaN</td>\n",
       "      <td>Russian River - Middle Russian River - Santa R...</td>\n",
       "      <td>Santa Rosa Valley - Santa Rosa Plain (1-055.01)</td>\n",
       "      <td>NaN</td>\n",
       "      <td>21-25%</td>\n",
       "      <td>20-25%</td>\n",
       "      <td>No</td>\n",
       "      <td>NaN</td>\n",
       "      <td>NORTH COAST RWQCB (REGION 1)</td>\n",
       "    </tr>\n",
       "    <tr>\n",
       "      <th>2</th>\n",
       "      <td>NPD100051582</td>\n",
       "      <td>San Luis Obispo WWTP</td>\n",
       "      <td>35</td>\n",
       "      <td>Prado Road</td>\n",
       "      <td>San Luis Obispo</td>\n",
       "      <td>CA</td>\n",
       "      <td>93401</td>\n",
       "      <td>San Luis Obispo</td>\n",
       "      <td>9</td>\n",
       "      <td>35.256328</td>\n",
       "      <td>...</td>\n",
       "      <td>NaN</td>\n",
       "      <td>NaN</td>\n",
       "      <td>Estero Bay - Point Buchon - San Luis Obispo Cr...</td>\n",
       "      <td>San Luis Obispo Valley (3-009)</td>\n",
       "      <td>NaN</td>\n",
       "      <td>16-20%</td>\n",
       "      <td>35-40%</td>\n",
       "      <td>No</td>\n",
       "      <td>NaN</td>\n",
       "      <td>CENTRAL COAST RWQCB (REGION 3)</td>\n",
       "    </tr>\n",
       "    <tr>\n",
       "      <th>3</th>\n",
       "      <td>T0604762455</td>\n",
       "      <td>SMOTHERS DELUXE SHELL</td>\n",
       "      <td>55</td>\n",
       "      <td>WEST 16TH STREET</td>\n",
       "      <td>MERCED</td>\n",
       "      <td>CA</td>\n",
       "      <td>95340</td>\n",
       "      <td>Merced</td>\n",
       "      <td>9</td>\n",
       "      <td>37.298192</td>\n",
       "      <td>...</td>\n",
       "      <td>NaN</td>\n",
       "      <td>NaN</td>\n",
       "      <td>San Joaquin Valley Floor - Merced (535.80)</td>\n",
       "      <td>San Joaquin Valley - Merced (5-022.04)</td>\n",
       "      <td>Severely Disadvantaged Community</td>\n",
       "      <td>91-95%</td>\n",
       "      <td>95-100% (highest scores)</td>\n",
       "      <td>No</td>\n",
       "      <td>NaN</td>\n",
       "      <td>CENTRAL VALLEY RWQCB (REGION 5F)</td>\n",
       "    </tr>\n",
       "    <tr>\n",
       "      <th>4</th>\n",
       "      <td>T10000006370</td>\n",
       "      <td>One Lawrence Station</td>\n",
       "      <td>3305</td>\n",
       "      <td>Kifer Road</td>\n",
       "      <td>Santa Clara</td>\n",
       "      <td>CA</td>\n",
       "      <td>95051</td>\n",
       "      <td>Santa Clara</td>\n",
       "      <td>9</td>\n",
       "      <td>37.374631</td>\n",
       "      <td>...</td>\n",
       "      <td>unknown</td>\n",
       "      <td>NaN</td>\n",
       "      <td>Santa Clara - Palo Alto (205.50)</td>\n",
       "      <td>Santa Clara Valley - Santa Clara (2-009.02)</td>\n",
       "      <td>NaN</td>\n",
       "      <td>36-40%</td>\n",
       "      <td>35-40%</td>\n",
       "      <td>No</td>\n",
       "      <td>NaN</td>\n",
       "      <td>SAN FRANCISCO BAY RWQCB (REGION 2)</td>\n",
       "    </tr>\n",
       "    <tr>\n",
       "      <th>...</th>\n",
       "      <td>...</td>\n",
       "      <td>...</td>\n",
       "      <td>...</td>\n",
       "      <td>...</td>\n",
       "      <td>...</td>\n",
       "      <td>...</td>\n",
       "      <td>...</td>\n",
       "      <td>...</td>\n",
       "      <td>...</td>\n",
       "      <td>...</td>\n",
       "      <td>...</td>\n",
       "      <td>...</td>\n",
       "      <td>...</td>\n",
       "      <td>...</td>\n",
       "      <td>...</td>\n",
       "      <td>...</td>\n",
       "      <td>...</td>\n",
       "      <td>...</td>\n",
       "      <td>...</td>\n",
       "      <td>...</td>\n",
       "      <td>...</td>\n",
       "    </tr>\n",
       "    <tr>\n",
       "      <th>75058</th>\n",
       "      <td>SLT5S0753116</td>\n",
       "      <td>CHEVRON PIPELINE CO - FORMER STANDARD OIL PIPE...</td>\n",
       "      <td>NaN</td>\n",
       "      <td>HIGHWAY 33</td>\n",
       "      <td>Patterson</td>\n",
       "      <td>CA</td>\n",
       "      <td>NaN</td>\n",
       "      <td>Stanislaus</td>\n",
       "      <td>9</td>\n",
       "      <td>37.472398</td>\n",
       "      <td>...</td>\n",
       "      <td>NaN</td>\n",
       "      <td>NaN</td>\n",
       "      <td>Delta-Mendota Canal - Patterson (541.10)</td>\n",
       "      <td>San Joaquin Valley - Delta-Mendota (5-022.07)</td>\n",
       "      <td>Disadvantaged Community</td>\n",
       "      <td>81-85%</td>\n",
       "      <td>60-65%</td>\n",
       "      <td>No</td>\n",
       "      <td>NaN</td>\n",
       "      <td>CENTRAL VALLEY RWQCB (REGION 5S)</td>\n",
       "    </tr>\n",
       "    <tr>\n",
       "      <th>75059</th>\n",
       "      <td>DOD100037100</td>\n",
       "      <td>Camp Pendleton Marine Corps Base (MCB) - OU 3 ...</td>\n",
       "      <td>NaN</td>\n",
       "      <td>Box 555008</td>\n",
       "      <td>Camp Pendleton</td>\n",
       "      <td>CA</td>\n",
       "      <td>92055-5008</td>\n",
       "      <td>San Diego</td>\n",
       "      <td>9</td>\n",
       "      <td>33.395000</td>\n",
       "      <td>...</td>\n",
       "      <td>NaN</td>\n",
       "      <td>1999-03-31T00:00:00Z</td>\n",
       "      <td>San Juan - San Mateo Canyon (901.40)</td>\n",
       "      <td>San Mateo Valley (9-002)</td>\n",
       "      <td>NaN</td>\n",
       "      <td>26-30%</td>\n",
       "      <td>45-50%</td>\n",
       "      <td>Yes</td>\n",
       "      <td>NaN</td>\n",
       "      <td>SAN DIEGO RWQCB (REGION 9)</td>\n",
       "    </tr>\n",
       "    <tr>\n",
       "      <th>75060</th>\n",
       "      <td>T0604500317</td>\n",
       "      <td>CDF HOPLAND</td>\n",
       "      <td>11000</td>\n",
       "      <td>HIGHWAY 101, SOUTH</td>\n",
       "      <td>HOPLAND</td>\n",
       "      <td>CA</td>\n",
       "      <td>95490</td>\n",
       "      <td>Mendocino</td>\n",
       "      <td>9</td>\n",
       "      <td>39.003077</td>\n",
       "      <td>...</td>\n",
       "      <td>NaN</td>\n",
       "      <td>2013-03-18T00:00:00Z</td>\n",
       "      <td>Russian River - Upper Russian River - Ukiah (1...</td>\n",
       "      <td>NaN</td>\n",
       "      <td>NaN</td>\n",
       "      <td>16-20%</td>\n",
       "      <td>10-15%</td>\n",
       "      <td>No</td>\n",
       "      <td>NaN</td>\n",
       "      <td>NORTH COAST RWQCB (REGION 1)</td>\n",
       "    </tr>\n",
       "    <tr>\n",
       "      <th>75061</th>\n",
       "      <td>T10000000477</td>\n",
       "      <td>Imperial Beach Naval Auxiliary Landing Field (...</td>\n",
       "      <td>NaN</td>\n",
       "      <td>BLDG 183A</td>\n",
       "      <td>IMPERIAL BEACH</td>\n",
       "      <td>CA</td>\n",
       "      <td>91932</td>\n",
       "      <td>San Diego</td>\n",
       "      <td>9</td>\n",
       "      <td>32.567051</td>\n",
       "      <td>...</td>\n",
       "      <td>Tank removed</td>\n",
       "      <td>2009-04-01T00:00:00Z</td>\n",
       "      <td>Tijuana - Tijuana Valley - San Ysidro (911.11)</td>\n",
       "      <td>Coastal Plain Of San Diego (9-033)</td>\n",
       "      <td>NaN</td>\n",
       "      <td>26-30%</td>\n",
       "      <td>55-60%</td>\n",
       "      <td>Yes</td>\n",
       "      <td>NaN</td>\n",
       "      <td>SAN DIEGO RWQCB (REGION 9)</td>\n",
       "    </tr>\n",
       "    <tr>\n",
       "      <th>75062</th>\n",
       "      <td>T06019765361</td>\n",
       "      <td>VIETNAM VETERANS OF SD</td>\n",
       "      <td>4141</td>\n",
       "      <td>PACIFIC HY</td>\n",
       "      <td>SAN DIEGO</td>\n",
       "      <td>CA</td>\n",
       "      <td>92110</td>\n",
       "      <td>San Diego</td>\n",
       "      <td>9</td>\n",
       "      <td>32.744747</td>\n",
       "      <td>...</td>\n",
       "      <td>CLOSE AND REMOVE TANK</td>\n",
       "      <td>2006-06-23T00:00:00Z</td>\n",
       "      <td>Pueblo San Diego - San Diego Mesa - Lindbergh ...</td>\n",
       "      <td>Mission Valley (9-014)</td>\n",
       "      <td>NaN</td>\n",
       "      <td>61-65%</td>\n",
       "      <td>55-60%</td>\n",
       "      <td>No</td>\n",
       "      <td>NaN</td>\n",
       "      <td>SAN DIEGO RWQCB (REGION 9)</td>\n",
       "    </tr>\n",
       "  </tbody>\n",
       "</table>\n",
       "<p>75063 rows × 44 columns</p>\n",
       "</div>"
      ],
      "text/plain": [
       "          GLOBAL_ID                                      BUSINESS_NAME  \\\n",
       "0      DOD100186700  Fort Hunter Liggett - Fort Hunter Liggett - LA...   \n",
       "1      T10000012752                                          McPhail's   \n",
       "2      NPD100051582                               San Luis Obispo WWTP   \n",
       "3       T0604762455                              SMOTHERS DELUXE SHELL   \n",
       "4      T10000006370                               One Lawrence Station   \n",
       "...             ...                                                ...   \n",
       "75058  SLT5S0753116  CHEVRON PIPELINE CO - FORMER STANDARD OIL PIPE...   \n",
       "75059  DOD100037100  Camp Pendleton Marine Corps Base (MCB) - OU 3 ...   \n",
       "75060   T0604500317                                        CDF HOPLAND   \n",
       "75061  T10000000477  Imperial Beach Naval Auxiliary Landing Field (...   \n",
       "75062  T06019765361                             VIETNAM VETERANS OF SD   \n",
       "\n",
       "      STREET_NUMBER         STREET_NAME             CITY STATE         ZIP  \\\n",
       "0               NaN                 NaN            Jolon    CA      -93928   \n",
       "1               975       Wright Street       Santa Rosa    CA       95407   \n",
       "2                35          Prado Road  San Luis Obispo    CA       93401   \n",
       "3                55    WEST 16TH STREET           MERCED    CA       95340   \n",
       "4              3305          Kifer Road      Santa Clara    CA       95051   \n",
       "...             ...                 ...              ...   ...         ...   \n",
       "75058           NaN          HIGHWAY 33        Patterson    CA         NaN   \n",
       "75059           NaN          Box 555008   Camp Pendleton    CA  92055-5008   \n",
       "75060         11000  HIGHWAY 101, SOUTH          HOPLAND    CA       95490   \n",
       "75061           NaN           BLDG 183A   IMPERIAL BEACH    CA       91932   \n",
       "75062          4141          PACIFIC HY        SAN DIEGO    CA       92110   \n",
       "\n",
       "                COUNTY  EPA_REGION   LATITUDE  ...       STOP_DESCRIPTION  \\\n",
       "0             Monterey           9  35.975332  ...                    NaN   \n",
       "1               Sonoma           9  38.452190  ...                    NaN   \n",
       "2      San Luis Obispo           9  35.256328  ...                    NaN   \n",
       "3               Merced           9  37.298192  ...                    NaN   \n",
       "4          Santa Clara           9  37.374631  ...                unknown   \n",
       "...                ...         ...        ...  ...                    ...   \n",
       "75058       Stanislaus           9  37.472398  ...                    NaN   \n",
       "75059        San Diego           9  33.395000  ...                    NaN   \n",
       "75060        Mendocino           9  39.003077  ...                    NaN   \n",
       "75061        San Diego           9  32.567051  ...           Tank removed   \n",
       "75062        San Diego           9  32.744747  ...  CLOSE AND REMOVE TANK   \n",
       "\n",
       "      NO_FURTHER_ACTION_DATE  \\\n",
       "0                        NaN   \n",
       "1                        NaN   \n",
       "2                        NaN   \n",
       "3                        NaN   \n",
       "4                        NaN   \n",
       "...                      ...   \n",
       "75058                    NaN   \n",
       "75059   1999-03-31T00:00:00Z   \n",
       "75060   2013-03-18T00:00:00Z   \n",
       "75061   2009-04-01T00:00:00Z   \n",
       "75062   2006-06-23T00:00:00Z   \n",
       "\n",
       "                                 CALWATER_WATERSHED_NAME  \\\n",
       "0            Salinas - Paso Robles - Atascadero (309.81)   \n",
       "1      Russian River - Middle Russian River - Santa R...   \n",
       "2      Estero Bay - Point Buchon - San Luis Obispo Cr...   \n",
       "3             San Joaquin Valley Floor - Merced (535.80)   \n",
       "4                       Santa Clara - Palo Alto (205.50)   \n",
       "...                                                  ...   \n",
       "75058           Delta-Mendota Canal - Patterson (541.10)   \n",
       "75059               San Juan - San Mateo Canyon (901.40)   \n",
       "75060  Russian River - Upper Russian River - Ukiah (1...   \n",
       "75061     Tijuana - Tijuana Valley - San Ysidro (911.11)   \n",
       "75062  Pueblo San Diego - San Diego Mesa - Lindbergh ...   \n",
       "\n",
       "                         DWR_GROUNDWATER_SUBBASIN_NAME  \\\n",
       "0                              Lockwood Valley (3-006)   \n",
       "1      Santa Rosa Valley - Santa Rosa Plain (1-055.01)   \n",
       "2                       San Luis Obispo Valley (3-009)   \n",
       "3               San Joaquin Valley - Merced (5-022.04)   \n",
       "4          Santa Clara Valley - Santa Clara (2-009.02)   \n",
       "...                                                ...   \n",
       "75058    San Joaquin Valley - Delta-Mendota (5-022.07)   \n",
       "75059                         San Mateo Valley (9-002)   \n",
       "75060                                              NaN   \n",
       "75061               Coastal Plain Of San Diego (9-033)   \n",
       "75062                           Mission Valley (9-014)   \n",
       "\n",
       "                DISADVANTAGED_COMMUNITY CALENVIROSCREEN3_SCORE  \\\n",
       "0                                   NaN                 41-45%   \n",
       "1                                   NaN                 21-25%   \n",
       "2                                   NaN                 16-20%   \n",
       "3      Severely Disadvantaged Community                 91-95%   \n",
       "4                                   NaN                 36-40%   \n",
       "...                                 ...                    ...   \n",
       "75058           Disadvantaged Community                 81-85%   \n",
       "75059                               NaN                 26-30%   \n",
       "75060                               NaN                 16-20%   \n",
       "75061                               NaN                 26-30%   \n",
       "75062                               NaN                 61-65%   \n",
       "\n",
       "         CALENVIROSCREEN4_SCORE MILITARY_DOD_SITE FACILITY_PROJECT_SUBTYPE  \\\n",
       "0                        45-50%               Yes                      NaN   \n",
       "1                        20-25%                No                      NaN   \n",
       "2                        35-40%                No                      NaN   \n",
       "3      95-100% (highest scores)                No                      NaN   \n",
       "4                        35-40%                No                      NaN   \n",
       "...                         ...               ...                      ...   \n",
       "75058                    60-65%                No                      NaN   \n",
       "75059                    45-50%               Yes                      NaN   \n",
       "75060                    10-15%                No                      NaN   \n",
       "75061                    55-60%               Yes                      NaN   \n",
       "75062                    55-60%                No                      NaN   \n",
       "\n",
       "                             RWQCB_REGION  \n",
       "0          CENTRAL COAST RWQCB (REGION 3)  \n",
       "1            NORTH COAST RWQCB (REGION 1)  \n",
       "2          CENTRAL COAST RWQCB (REGION 3)  \n",
       "3        CENTRAL VALLEY RWQCB (REGION 5F)  \n",
       "4      SAN FRANCISCO BAY RWQCB (REGION 2)  \n",
       "...                                   ...  \n",
       "75058    CENTRAL VALLEY RWQCB (REGION 5S)  \n",
       "75059          SAN DIEGO RWQCB (REGION 9)  \n",
       "75060        NORTH COAST RWQCB (REGION 1)  \n",
       "75061          SAN DIEGO RWQCB (REGION 9)  \n",
       "75062          SAN DIEGO RWQCB (REGION 9)  \n",
       "\n",
       "[75063 rows x 44 columns]"
      ]
     },
     "execution_count": 266,
     "metadata": {},
     "output_type": "execute_result"
    }
   ],
   "source": [
    "data_df"
   ]
  },
  {
   "cell_type": "markdown",
   "id": "912411e6-a915-4278-83bc-8883acd6a134",
   "metadata": {},
   "source": [
    "## Cleaning names "
   ]
  },
  {
   "cell_type": "code",
   "execution_count": 267,
   "id": "fb932db0-0723-42ab-b8bf-5aa7f925032c",
   "metadata": {},
   "outputs": [],
   "source": [
    "clean_city=data_df.CITY.str.title()"
   ]
  },
  {
   "cell_type": "code",
   "execution_count": 268,
   "id": "02b6d63c-8a6e-4d03-bc54-8f845f23bdd7",
   "metadata": {},
   "outputs": [],
   "source": [
    "data_df.CITY=clean_city"
   ]
  },
  {
   "cell_type": "code",
   "execution_count": 269,
   "id": "5aa9700a-3fca-4feb-a3d1-b416f942f9e8",
   "metadata": {},
   "outputs": [],
   "source": [
    "data_df.COUNTY=data_df.COUNTY.str.title()"
   ]
  },
  {
   "cell_type": "code",
   "execution_count": 270,
   "id": "e6251103-238f-4072-ad33-4481c9e4d51f",
   "metadata": {},
   "outputs": [],
   "source": [
    "data_df.BUSINESS_NAME=data_df.BUSINESS_NAME.str.title()"
   ]
  },
  {
   "cell_type": "markdown",
   "id": "99f063b0-d2cb-49c2-b3c3-90361079fb83",
   "metadata": {},
   "source": [
    "## Gathering first details"
   ]
  },
  {
   "cell_type": "code",
   "execution_count": 271,
   "id": "8446cb3d-5e63-4515-96eb-97a8f7033a78",
   "metadata": {},
   "outputs": [
    {
     "name": "stdout",
     "output_type": "stream",
     "text": [
      "<class 'pandas.core.frame.DataFrame'>\n",
      "RangeIndex: 75063 entries, 0 to 75062\n",
      "Data columns (total 44 columns):\n",
      " #   Column                             Non-Null Count  Dtype  \n",
      "---  ------                             --------------  -----  \n",
      " 0   GLOBAL_ID                          75063 non-null  object \n",
      " 1   BUSINESS_NAME                      75059 non-null  object \n",
      " 2   STREET_NUMBER                      63339 non-null  object \n",
      " 3   STREET_NAME                        73457 non-null  object \n",
      " 4   CITY                               75023 non-null  object \n",
      " 5   STATE                              75063 non-null  object \n",
      " 6   ZIP                                70748 non-null  object \n",
      " 7   COUNTY                             75056 non-null  object \n",
      " 8   EPA_REGION                         75063 non-null  int64  \n",
      " 9   LATITUDE                           74437 non-null  float64\n",
      " 10  LONGITUDE                          74437 non-null  float64\n",
      " 11  COORDINATE_SOURCE                  60899 non-null  object \n",
      " 12  CASE_TYPE                          75063 non-null  object \n",
      " 13  STATUS                             75063 non-null  object \n",
      " 14  STATUS_DATE                        75060 non-null  object \n",
      " 15  CLAIM_NO                           19103 non-null  object \n",
      " 16  CLAIM_STATUS                       19103 non-null  object \n",
      " 17  LEAD_AGENCY                        74220 non-null  object \n",
      " 18  CASEWORKER                         49154 non-null  object \n",
      " 19  LOCAL_AGENCY                       39042 non-null  object \n",
      " 20  RB_CASE_NUMBER                     57014 non-null  object \n",
      " 21  LOC_CASE_NUMBER                    35780 non-null  object \n",
      " 22  FILE_LOCATION                      38210 non-null  object \n",
      " 23  POTENTIAL_CONTAMINANTS_OF_CONCERN  56064 non-null  object \n",
      " 24  QUANTITY_RELEASED_GALLONS          6927 non-null   float64\n",
      " 25  POTENTIAL_MEDIA_OF_CONCERN         56241 non-null  object \n",
      " 26  SITE_HISTORY                       21873 non-null  object \n",
      " 27  BEGIN_DATE                         71202 non-null  object \n",
      " 28  LEAK_REPORTED_DATE                 54371 non-null  object \n",
      " 29  HOW_DISCOVERED                     35346 non-null  object \n",
      " 30  HOW_DISCOVERED_DESCRIPTION         5914 non-null   object \n",
      " 31  DISCHARGE_SOURCE                   31166 non-null  object \n",
      " 32  DISCHARGE_CAUSE                    30548 non-null  object \n",
      " 33  STOP_METHOD                        17719 non-null  object \n",
      " 34  STOP_DESCRIPTION                   5867 non-null   object \n",
      " 35  NO_FURTHER_ACTION_DATE             58411 non-null  object \n",
      " 36  CALWATER_WATERSHED_NAME            72376 non-null  object \n",
      " 37  DWR_GROUNDWATER_SUBBASIN_NAME      61621 non-null  object \n",
      " 38  DISADVANTAGED_COMMUNITY            13960 non-null  object \n",
      " 39  CALENVIROSCREEN3_SCORE             70115 non-null  object \n",
      " 40  CALENVIROSCREEN4_SCORE             69806 non-null  object \n",
      " 41  MILITARY_DOD_SITE                  75063 non-null  object \n",
      " 42  FACILITY_PROJECT_SUBTYPE           2497 non-null   object \n",
      " 43  RWQCB_REGION                       72639 non-null  object \n",
      "dtypes: float64(3), int64(1), object(40)\n",
      "memory usage: 25.2+ MB\n"
     ]
    }
   ],
   "source": [
    "data_df.info()"
   ]
  },
  {
   "cell_type": "markdown",
   "id": "696b5ecd-329e-4e80-81aa-0659ad113f21",
   "metadata": {},
   "source": [
    "## Counting nulls"
   ]
  },
  {
   "cell_type": "code",
   "execution_count": 272,
   "id": "e7fcbe18-84ed-41e9-a534-fbc43cfb0678",
   "metadata": {
    "scrolled": true
   },
   "outputs": [
    {
     "data": {
      "text/plain": [
       "GLOBAL_ID                                0\n",
       "BUSINESS_NAME                            4\n",
       "STREET_NUMBER                        11724\n",
       "STREET_NAME                           1606\n",
       "CITY                                    40\n",
       "STATE                                    0\n",
       "ZIP                                   4315\n",
       "COUNTY                                   7\n",
       "EPA_REGION                               0\n",
       "LATITUDE                               626\n",
       "LONGITUDE                              626\n",
       "COORDINATE_SOURCE                    14164\n",
       "CASE_TYPE                                0\n",
       "STATUS                                   0\n",
       "STATUS_DATE                              3\n",
       "CLAIM_NO                             55960\n",
       "CLAIM_STATUS                         55960\n",
       "LEAD_AGENCY                            843\n",
       "CASEWORKER                           25909\n",
       "LOCAL_AGENCY                         36021\n",
       "RB_CASE_NUMBER                       18049\n",
       "LOC_CASE_NUMBER                      39283\n",
       "FILE_LOCATION                        36853\n",
       "POTENTIAL_CONTAMINANTS_OF_CONCERN    18999\n",
       "QUANTITY_RELEASED_GALLONS            68136\n",
       "POTENTIAL_MEDIA_OF_CONCERN           18822\n",
       "SITE_HISTORY                         53190\n",
       "BEGIN_DATE                            3861\n",
       "LEAK_REPORTED_DATE                   20692\n",
       "HOW_DISCOVERED                       39717\n",
       "HOW_DISCOVERED_DESCRIPTION           69149\n",
       "DISCHARGE_SOURCE                     43897\n",
       "DISCHARGE_CAUSE                      44515\n",
       "STOP_METHOD                          57344\n",
       "STOP_DESCRIPTION                     69196\n",
       "NO_FURTHER_ACTION_DATE               16652\n",
       "CALWATER_WATERSHED_NAME               2687\n",
       "DWR_GROUNDWATER_SUBBASIN_NAME        13442\n",
       "DISADVANTAGED_COMMUNITY              61103\n",
       "CALENVIROSCREEN3_SCORE                4948\n",
       "CALENVIROSCREEN4_SCORE                5257\n",
       "MILITARY_DOD_SITE                        0\n",
       "FACILITY_PROJECT_SUBTYPE             72566\n",
       "RWQCB_REGION                          2424\n",
       "dtype: int64"
      ]
     },
     "execution_count": 272,
     "metadata": {},
     "output_type": "execute_result"
    }
   ],
   "source": [
    "data_df.isnull().sum()"
   ]
  },
  {
   "cell_type": "markdown",
   "id": "58fc8312-b251-4cc6-a521-8c48161d2cb0",
   "metadata": {},
   "source": [
    "## Counting Uniques"
   ]
  },
  {
   "cell_type": "code",
   "execution_count": 273,
   "id": "65c295cd-c576-4c6b-addd-937d3e41b5b7",
   "metadata": {},
   "outputs": [
    {
     "data": {
      "text/plain": [
       "65250"
      ]
     },
     "execution_count": 273,
     "metadata": {},
     "output_type": "execute_result"
    }
   ],
   "source": [
    "data_df.BUSINESS_NAME.nunique()"
   ]
  },
  {
   "cell_type": "code",
   "execution_count": 274,
   "id": "9071348c-7a20-460a-be18-4e5c5d3b5c2c",
   "metadata": {},
   "outputs": [
    {
     "data": {
      "text/plain": [
       "numpy.ndarray"
      ]
     },
     "execution_count": 274,
     "metadata": {},
     "output_type": "execute_result"
    }
   ],
   "source": [
    "type(data_df.BUSINESS_NAME.unique())"
   ]
  },
  {
   "cell_type": "code",
   "execution_count": 275,
   "id": "3448ea54-01eb-432e-a8af-8f95fafee59e",
   "metadata": {},
   "outputs": [
    {
     "data": {
      "text/plain": [
       "1932"
      ]
     },
     "execution_count": 275,
     "metadata": {},
     "output_type": "execute_result"
    }
   ],
   "source": [
    "data_df.CITY.nunique()#i am clearly not getting all the uniques, I was retarded and didnt know nunique() was a thing"
   ]
  },
  {
   "cell_type": "code",
   "execution_count": 276,
   "id": "84865289-7963-4787-983f-678d397e29f5",
   "metadata": {},
   "outputs": [
    {
     "data": {
      "text/plain": [
       "93"
      ]
     },
     "execution_count": 276,
     "metadata": {},
     "output_type": "execute_result"
    }
   ],
   "source": [
    "data_df.DISCHARGE_CAUSE.nunique()"
   ]
  },
  {
   "cell_type": "code",
   "execution_count": 277,
   "id": "962b5176-7180-42e2-a711-087c913b136a",
   "metadata": {},
   "outputs": [
    {
     "data": {
      "text/plain": [
       "43"
      ]
     },
     "execution_count": 277,
     "metadata": {},
     "output_type": "execute_result"
    }
   ],
   "source": [
    "data_df.DISCHARGE_SOURCE.nunique()"
   ]
  },
  {
   "cell_type": "code",
   "execution_count": 278,
   "id": "0637a2aa-e3c4-4d37-ab49-18ad393b36b3",
   "metadata": {},
   "outputs": [
    {
     "data": {
      "text/plain": [
       "111"
      ]
     },
     "execution_count": 278,
     "metadata": {},
     "output_type": "execute_result"
    }
   ],
   "source": [
    "data_df.STOP_METHOD.nunique()"
   ]
  },
  {
   "cell_type": "code",
   "execution_count": 279,
   "id": "45768659-2071-4c45-9bc1-db446a661502",
   "metadata": {},
   "outputs": [
    {
     "data": {
      "text/plain": [
       "111"
      ]
     },
     "execution_count": 279,
     "metadata": {},
     "output_type": "execute_result"
    }
   ],
   "source": [
    "data_df.STOP_METHOD.nunique()"
   ]
  },
  {
   "cell_type": "code",
   "execution_count": 280,
   "id": "0ba21595-175f-4b92-9a85-6d1bbd0004cd",
   "metadata": {},
   "outputs": [
    {
     "data": {
      "text/plain": [
       "2"
      ]
     },
     "execution_count": 280,
     "metadata": {},
     "output_type": "execute_result"
    }
   ],
   "source": [
    "data_df['DISADVANTAGED_COMMUNITY'].nunique()"
   ]
  },
  {
   "cell_type": "code",
   "execution_count": 281,
   "id": "56479c31-38cc-4afa-b26a-54d9eebda75c",
   "metadata": {
    "scrolled": true
   },
   "outputs": [
    {
     "data": {
      "text/plain": [
       "array([nan, 'Severely Disadvantaged Community', 'Disadvantaged Community'],\n",
       "      dtype=object)"
      ]
     },
     "execution_count": 281,
     "metadata": {},
     "output_type": "execute_result"
    }
   ],
   "source": [
    "data_df['DISADVANTAGED_COMMUNITY'].unique()"
   ]
  },
  {
   "cell_type": "code",
   "execution_count": 282,
   "id": "9fdbfea4-b864-4747-8695-ce68f5a66370",
   "metadata": {},
   "outputs": [
    {
     "data": {
      "text/plain": [
       "75063"
      ]
     },
     "execution_count": 282,
     "metadata": {},
     "output_type": "execute_result"
    }
   ],
   "source": [
    "data_df.GLOBAL_ID.nunique() #all reported leaks are unique "
   ]
  },
  {
   "cell_type": "markdown",
   "id": "a23e7a0c-8e50-437a-b912-20e4ed192cf4",
   "metadata": {},
   "source": [
    "## Changing object types for date columns"
   ]
  },
  {
   "cell_type": "code",
   "execution_count": 283,
   "id": "bdf40dbd-e11f-4134-b7ad-b00f5dab8da9",
   "metadata": {},
   "outputs": [],
   "source": [
    "data_df.STATUS_DATE=pd.to_datetime(data_df.STATUS_DATE,dayfirst=True)"
   ]
  },
  {
   "cell_type": "code",
   "execution_count": 284,
   "id": "e21e7234-cf90-476a-ac99-87f67988f1f1",
   "metadata": {},
   "outputs": [],
   "source": [
    "data_df.BEGIN_DATE=pd.to_datetime(data_df.BEGIN_DATE,dayfirst=True)"
   ]
  },
  {
   "cell_type": "code",
   "execution_count": 285,
   "id": "7b2b4d17-c15d-4b7d-ab95-bbfd4f3d2b21",
   "metadata": {},
   "outputs": [
    {
     "data": {
      "text/plain": [
       "0                         NaN\n",
       "1                         NaN\n",
       "2                         NaN\n",
       "3        2006-02-28T00:00:00Z\n",
       "4        2014-11-03T00:00:00Z\n",
       "                 ...         \n",
       "75058    1965-01-02T00:00:00Z\n",
       "75059                     NaN\n",
       "75060    1998-07-06T00:00:00Z\n",
       "75061    2008-04-17T00:00:00Z\n",
       "75062    2004-04-16T00:00:00Z\n",
       "Name: LEAK_REPORTED_DATE, Length: 75063, dtype: object"
      ]
     },
     "execution_count": 285,
     "metadata": {},
     "output_type": "execute_result"
    }
   ],
   "source": [
    "data_df.LEAK_REPORTED_DATE"
   ]
  },
  {
   "cell_type": "code",
   "execution_count": 286,
   "id": "81e8590b-4054-4d72-b317-1f8cd9808b2a",
   "metadata": {},
   "outputs": [],
   "source": [
    "data_df.LEAK_REPORTED_DATE=pd.to_datetime(data_df.LEAK_REPORTED_DATE,dayfirst=False)"
   ]
  },
  {
   "cell_type": "code",
   "execution_count": 287,
   "id": "2f93306f-a5c9-46f2-a081-a81901768acb",
   "metadata": {},
   "outputs": [],
   "source": [
    "data_df.LEAK_REPORTED_DATE=data_df.LEAK_REPORTED_DATE.dt.date"
   ]
  },
  {
   "cell_type": "code",
   "execution_count": 288,
   "id": "3ee423f1-2672-49f4-bcb0-2b0a8a72b7b1",
   "metadata": {},
   "outputs": [],
   "source": [
    "data_df.LEAK_REPORTED_DATE=pd.to_datetime(data_df.LEAK_REPORTED_DATE)"
   ]
  },
  {
   "cell_type": "code",
   "execution_count": 289,
   "id": "53d0459c-a62b-4d81-84d2-babd56d372be",
   "metadata": {},
   "outputs": [],
   "source": [
    "data_df.NO_FURTHER_ACTION_DATE=pd.to_datetime(data_df.NO_FURTHER_ACTION_DATE,dayfirst=False)"
   ]
  },
  {
   "cell_type": "code",
   "execution_count": 290,
   "id": "93c2373f-a936-4551-893d-025f391e2e88",
   "metadata": {},
   "outputs": [],
   "source": [
    "data_df.NO_FURTHER_ACTION_DATE = data_df.NO_FURTHER_ACTION_DATE.dt.date"
   ]
  },
  {
   "cell_type": "code",
   "execution_count": 291,
   "id": "20033551-cd02-46c5-9c60-655bdd6a5f93",
   "metadata": {},
   "outputs": [],
   "source": [
    "data_df.NO_FURTHER_ACTION_DATE=pd.to_datetime(data_df.NO_FURTHER_ACTION_DATE)"
   ]
  },
  {
   "cell_type": "code",
   "execution_count": 292,
   "id": "db7cfe91-1d66-4b0b-9bbb-efbcf2ce8142",
   "metadata": {},
   "outputs": [
    {
     "data": {
      "text/plain": [
       "0              NaT\n",
       "1              NaT\n",
       "2              NaT\n",
       "3              NaT\n",
       "4              NaT\n",
       "           ...    \n",
       "75058          NaT\n",
       "75059   1999-03-31\n",
       "75060   2013-03-18\n",
       "75061   2009-04-01\n",
       "75062   2006-06-23\n",
       "Name: NO_FURTHER_ACTION_DATE, Length: 75063, dtype: datetime64[ns]"
      ]
     },
     "execution_count": 292,
     "metadata": {},
     "output_type": "execute_result"
    }
   ],
   "source": [
    "data_df.NO_FURTHER_ACTION_DATE"
   ]
  },
  {
   "cell_type": "code",
   "execution_count": 293,
   "id": "93927e58-e209-4aec-bb4b-4765494afc87",
   "metadata": {},
   "outputs": [
    {
     "name": "stdout",
     "output_type": "stream",
     "text": [
      "<class 'pandas.core.frame.DataFrame'>\n",
      "RangeIndex: 75063 entries, 0 to 75062\n",
      "Data columns (total 4 columns):\n",
      " #   Column                  Non-Null Count  Dtype         \n",
      "---  ------                  --------------  -----         \n",
      " 0   LEAK_REPORTED_DATE      54371 non-null  datetime64[ns]\n",
      " 1   STATUS_DATE             75060 non-null  datetime64[ns]\n",
      " 2   BEGIN_DATE              71202 non-null  datetime64[ns]\n",
      " 3   NO_FURTHER_ACTION_DATE  58411 non-null  datetime64[ns]\n",
      "dtypes: datetime64[ns](4)\n",
      "memory usage: 2.3 MB\n"
     ]
    }
   ],
   "source": [
    "data_df[['LEAK_REPORTED_DATE',\"STATUS_DATE\",'BEGIN_DATE','NO_FURTHER_ACTION_DATE']].info()"
   ]
  },
  {
   "cell_type": "code",
   "execution_count": 294,
   "id": "d91e16dd-855f-4206-87d1-3c5515ab3794",
   "metadata": {},
   "outputs": [
    {
     "data": {
      "text/html": [
       "<div>\n",
       "<style scoped>\n",
       "    .dataframe tbody tr th:only-of-type {\n",
       "        vertical-align: middle;\n",
       "    }\n",
       "\n",
       "    .dataframe tbody tr th {\n",
       "        vertical-align: top;\n",
       "    }\n",
       "\n",
       "    .dataframe thead th {\n",
       "        text-align: right;\n",
       "    }\n",
       "</style>\n",
       "<table border=\"1\" class=\"dataframe\">\n",
       "  <thead>\n",
       "    <tr style=\"text-align: right;\">\n",
       "      <th></th>\n",
       "      <th>LEAK_REPORTED_DATE</th>\n",
       "      <th>STATUS_DATE</th>\n",
       "      <th>BEGIN_DATE</th>\n",
       "      <th>NO_FURTHER_ACTION_DATE</th>\n",
       "    </tr>\n",
       "  </thead>\n",
       "  <tbody>\n",
       "    <tr>\n",
       "      <th>0</th>\n",
       "      <td>NaT</td>\n",
       "      <td>2022-04-01</td>\n",
       "      <td>2009-05-11</td>\n",
       "      <td>NaT</td>\n",
       "    </tr>\n",
       "    <tr>\n",
       "      <th>1</th>\n",
       "      <td>NaT</td>\n",
       "      <td>2023-02-28</td>\n",
       "      <td>2019-03-06</td>\n",
       "      <td>NaT</td>\n",
       "    </tr>\n",
       "    <tr>\n",
       "      <th>2</th>\n",
       "      <td>NaT</td>\n",
       "      <td>2024-09-01</td>\n",
       "      <td>2014-12-01</td>\n",
       "      <td>NaT</td>\n",
       "    </tr>\n",
       "    <tr>\n",
       "      <th>3</th>\n",
       "      <td>2006-02-28</td>\n",
       "      <td>2006-02-28</td>\n",
       "      <td>2006-02-28</td>\n",
       "      <td>NaT</td>\n",
       "    </tr>\n",
       "    <tr>\n",
       "      <th>4</th>\n",
       "      <td>2014-11-03</td>\n",
       "      <td>2014-12-08</td>\n",
       "      <td>2014-11-03</td>\n",
       "      <td>NaT</td>\n",
       "    </tr>\n",
       "    <tr>\n",
       "      <th>...</th>\n",
       "      <td>...</td>\n",
       "      <td>...</td>\n",
       "      <td>...</td>\n",
       "      <td>...</td>\n",
       "    </tr>\n",
       "    <tr>\n",
       "      <th>75058</th>\n",
       "      <td>1965-01-02</td>\n",
       "      <td>1998-03-28</td>\n",
       "      <td>1998-03-27</td>\n",
       "      <td>NaT</td>\n",
       "    </tr>\n",
       "    <tr>\n",
       "      <th>75059</th>\n",
       "      <td>NaT</td>\n",
       "      <td>1999-03-31</td>\n",
       "      <td>1999-03-31</td>\n",
       "      <td>1999-03-31</td>\n",
       "    </tr>\n",
       "    <tr>\n",
       "      <th>75060</th>\n",
       "      <td>1998-07-06</td>\n",
       "      <td>2013-03-18</td>\n",
       "      <td>1998-07-06</td>\n",
       "      <td>2013-03-18</td>\n",
       "    </tr>\n",
       "    <tr>\n",
       "      <th>75061</th>\n",
       "      <td>2008-04-17</td>\n",
       "      <td>2009-04-01</td>\n",
       "      <td>2007-07-29</td>\n",
       "      <td>2009-04-01</td>\n",
       "    </tr>\n",
       "    <tr>\n",
       "      <th>75062</th>\n",
       "      <td>2004-04-16</td>\n",
       "      <td>2006-06-23</td>\n",
       "      <td>2004-04-16</td>\n",
       "      <td>2006-06-23</td>\n",
       "    </tr>\n",
       "  </tbody>\n",
       "</table>\n",
       "<p>75063 rows × 4 columns</p>\n",
       "</div>"
      ],
      "text/plain": [
       "      LEAK_REPORTED_DATE STATUS_DATE BEGIN_DATE NO_FURTHER_ACTION_DATE\n",
       "0                    NaT  2022-04-01 2009-05-11                    NaT\n",
       "1                    NaT  2023-02-28 2019-03-06                    NaT\n",
       "2                    NaT  2024-09-01 2014-12-01                    NaT\n",
       "3             2006-02-28  2006-02-28 2006-02-28                    NaT\n",
       "4             2014-11-03  2014-12-08 2014-11-03                    NaT\n",
       "...                  ...         ...        ...                    ...\n",
       "75058         1965-01-02  1998-03-28 1998-03-27                    NaT\n",
       "75059                NaT  1999-03-31 1999-03-31             1999-03-31\n",
       "75060         1998-07-06  2013-03-18 1998-07-06             2013-03-18\n",
       "75061         2008-04-17  2009-04-01 2007-07-29             2009-04-01\n",
       "75062         2004-04-16  2006-06-23 2004-04-16             2006-06-23\n",
       "\n",
       "[75063 rows x 4 columns]"
      ]
     },
     "execution_count": 294,
     "metadata": {},
     "output_type": "execute_result"
    }
   ],
   "source": [
    "data_df[['LEAK_REPORTED_DATE',\"STATUS_DATE\",'BEGIN_DATE','NO_FURTHER_ACTION_DATE']]"
   ]
  },
  {
   "cell_type": "code",
   "execution_count": 295,
   "id": "f9ee2c2b-e41e-4dde-81d5-a527fd341843",
   "metadata": {},
   "outputs": [],
   "source": [
    "data_df_nomissing_dates=data_df[['LEAK_REPORTED_DATE',\"STATUS_DATE\",'BEGIN_DATE','NO_FURTHER_ACTION_DATE']].dropna()"
   ]
  },
  {
   "cell_type": "code",
   "execution_count": 296,
   "id": "68e92568-4229-4f2a-a13d-2ede94f555e8",
   "metadata": {},
   "outputs": [
    {
     "data": {
      "text/html": [
       "<div>\n",
       "<style scoped>\n",
       "    .dataframe tbody tr th:only-of-type {\n",
       "        vertical-align: middle;\n",
       "    }\n",
       "\n",
       "    .dataframe tbody tr th {\n",
       "        vertical-align: top;\n",
       "    }\n",
       "\n",
       "    .dataframe thead th {\n",
       "        text-align: right;\n",
       "    }\n",
       "</style>\n",
       "<table border=\"1\" class=\"dataframe\">\n",
       "  <thead>\n",
       "    <tr style=\"text-align: right;\">\n",
       "      <th></th>\n",
       "      <th>GLOBAL_ID</th>\n",
       "      <th>BUSINESS_NAME</th>\n",
       "      <th>STREET_NUMBER</th>\n",
       "      <th>STREET_NAME</th>\n",
       "      <th>CITY</th>\n",
       "      <th>STATE</th>\n",
       "      <th>ZIP</th>\n",
       "      <th>COUNTY</th>\n",
       "      <th>EPA_REGION</th>\n",
       "      <th>LATITUDE</th>\n",
       "      <th>...</th>\n",
       "      <th>STOP_DESCRIPTION</th>\n",
       "      <th>NO_FURTHER_ACTION_DATE</th>\n",
       "      <th>CALWATER_WATERSHED_NAME</th>\n",
       "      <th>DWR_GROUNDWATER_SUBBASIN_NAME</th>\n",
       "      <th>DISADVANTAGED_COMMUNITY</th>\n",
       "      <th>CALENVIROSCREEN3_SCORE</th>\n",
       "      <th>CALENVIROSCREEN4_SCORE</th>\n",
       "      <th>MILITARY_DOD_SITE</th>\n",
       "      <th>FACILITY_PROJECT_SUBTYPE</th>\n",
       "      <th>RWQCB_REGION</th>\n",
       "    </tr>\n",
       "  </thead>\n",
       "  <tbody>\n",
       "    <tr>\n",
       "      <th>0</th>\n",
       "      <td>DOD100186700</td>\n",
       "      <td>Fort Hunter Liggett - Fort Hunter Liggett - La...</td>\n",
       "      <td>NaN</td>\n",
       "      <td>NaN</td>\n",
       "      <td>Jolon</td>\n",
       "      <td>CA</td>\n",
       "      <td>-93928</td>\n",
       "      <td>Monterey</td>\n",
       "      <td>9</td>\n",
       "      <td>35.975332</td>\n",
       "      <td>...</td>\n",
       "      <td>NaN</td>\n",
       "      <td>NaT</td>\n",
       "      <td>Salinas - Paso Robles - Atascadero (309.81)</td>\n",
       "      <td>Lockwood Valley (3-006)</td>\n",
       "      <td>NaN</td>\n",
       "      <td>41-45%</td>\n",
       "      <td>45-50%</td>\n",
       "      <td>Yes</td>\n",
       "      <td>NaN</td>\n",
       "      <td>CENTRAL COAST RWQCB (REGION 3)</td>\n",
       "    </tr>\n",
       "    <tr>\n",
       "      <th>1</th>\n",
       "      <td>T10000012752</td>\n",
       "      <td>Mcphail'S</td>\n",
       "      <td>975</td>\n",
       "      <td>Wright Street</td>\n",
       "      <td>Santa Rosa</td>\n",
       "      <td>CA</td>\n",
       "      <td>95407</td>\n",
       "      <td>Sonoma</td>\n",
       "      <td>9</td>\n",
       "      <td>38.452190</td>\n",
       "      <td>...</td>\n",
       "      <td>NaN</td>\n",
       "      <td>NaT</td>\n",
       "      <td>Russian River - Middle Russian River - Santa R...</td>\n",
       "      <td>Santa Rosa Valley - Santa Rosa Plain (1-055.01)</td>\n",
       "      <td>NaN</td>\n",
       "      <td>21-25%</td>\n",
       "      <td>20-25%</td>\n",
       "      <td>No</td>\n",
       "      <td>NaN</td>\n",
       "      <td>NORTH COAST RWQCB (REGION 1)</td>\n",
       "    </tr>\n",
       "    <tr>\n",
       "      <th>2</th>\n",
       "      <td>NPD100051582</td>\n",
       "      <td>San Luis Obispo Wwtp</td>\n",
       "      <td>35</td>\n",
       "      <td>Prado Road</td>\n",
       "      <td>San Luis Obispo</td>\n",
       "      <td>CA</td>\n",
       "      <td>93401</td>\n",
       "      <td>San Luis Obispo</td>\n",
       "      <td>9</td>\n",
       "      <td>35.256328</td>\n",
       "      <td>...</td>\n",
       "      <td>NaN</td>\n",
       "      <td>NaT</td>\n",
       "      <td>Estero Bay - Point Buchon - San Luis Obispo Cr...</td>\n",
       "      <td>San Luis Obispo Valley (3-009)</td>\n",
       "      <td>NaN</td>\n",
       "      <td>16-20%</td>\n",
       "      <td>35-40%</td>\n",
       "      <td>No</td>\n",
       "      <td>NaN</td>\n",
       "      <td>CENTRAL COAST RWQCB (REGION 3)</td>\n",
       "    </tr>\n",
       "    <tr>\n",
       "      <th>3</th>\n",
       "      <td>T0604762455</td>\n",
       "      <td>Smothers Deluxe Shell</td>\n",
       "      <td>55</td>\n",
       "      <td>WEST 16TH STREET</td>\n",
       "      <td>Merced</td>\n",
       "      <td>CA</td>\n",
       "      <td>95340</td>\n",
       "      <td>Merced</td>\n",
       "      <td>9</td>\n",
       "      <td>37.298192</td>\n",
       "      <td>...</td>\n",
       "      <td>NaN</td>\n",
       "      <td>NaT</td>\n",
       "      <td>San Joaquin Valley Floor - Merced (535.80)</td>\n",
       "      <td>San Joaquin Valley - Merced (5-022.04)</td>\n",
       "      <td>Severely Disadvantaged Community</td>\n",
       "      <td>91-95%</td>\n",
       "      <td>95-100% (highest scores)</td>\n",
       "      <td>No</td>\n",
       "      <td>NaN</td>\n",
       "      <td>CENTRAL VALLEY RWQCB (REGION 5F)</td>\n",
       "    </tr>\n",
       "    <tr>\n",
       "      <th>4</th>\n",
       "      <td>T10000006370</td>\n",
       "      <td>One Lawrence Station</td>\n",
       "      <td>3305</td>\n",
       "      <td>Kifer Road</td>\n",
       "      <td>Santa Clara</td>\n",
       "      <td>CA</td>\n",
       "      <td>95051</td>\n",
       "      <td>Santa Clara</td>\n",
       "      <td>9</td>\n",
       "      <td>37.374631</td>\n",
       "      <td>...</td>\n",
       "      <td>unknown</td>\n",
       "      <td>NaT</td>\n",
       "      <td>Santa Clara - Palo Alto (205.50)</td>\n",
       "      <td>Santa Clara Valley - Santa Clara (2-009.02)</td>\n",
       "      <td>NaN</td>\n",
       "      <td>36-40%</td>\n",
       "      <td>35-40%</td>\n",
       "      <td>No</td>\n",
       "      <td>NaN</td>\n",
       "      <td>SAN FRANCISCO BAY RWQCB (REGION 2)</td>\n",
       "    </tr>\n",
       "    <tr>\n",
       "      <th>...</th>\n",
       "      <td>...</td>\n",
       "      <td>...</td>\n",
       "      <td>...</td>\n",
       "      <td>...</td>\n",
       "      <td>...</td>\n",
       "      <td>...</td>\n",
       "      <td>...</td>\n",
       "      <td>...</td>\n",
       "      <td>...</td>\n",
       "      <td>...</td>\n",
       "      <td>...</td>\n",
       "      <td>...</td>\n",
       "      <td>...</td>\n",
       "      <td>...</td>\n",
       "      <td>...</td>\n",
       "      <td>...</td>\n",
       "      <td>...</td>\n",
       "      <td>...</td>\n",
       "      <td>...</td>\n",
       "      <td>...</td>\n",
       "      <td>...</td>\n",
       "    </tr>\n",
       "    <tr>\n",
       "      <th>75058</th>\n",
       "      <td>SLT5S0753116</td>\n",
       "      <td>Chevron Pipeline Co - Former Standard Oil Pipe...</td>\n",
       "      <td>NaN</td>\n",
       "      <td>HIGHWAY 33</td>\n",
       "      <td>Patterson</td>\n",
       "      <td>CA</td>\n",
       "      <td>NaN</td>\n",
       "      <td>Stanislaus</td>\n",
       "      <td>9</td>\n",
       "      <td>37.472398</td>\n",
       "      <td>...</td>\n",
       "      <td>NaN</td>\n",
       "      <td>NaT</td>\n",
       "      <td>Delta-Mendota Canal - Patterson (541.10)</td>\n",
       "      <td>San Joaquin Valley - Delta-Mendota (5-022.07)</td>\n",
       "      <td>Disadvantaged Community</td>\n",
       "      <td>81-85%</td>\n",
       "      <td>60-65%</td>\n",
       "      <td>No</td>\n",
       "      <td>NaN</td>\n",
       "      <td>CENTRAL VALLEY RWQCB (REGION 5S)</td>\n",
       "    </tr>\n",
       "    <tr>\n",
       "      <th>75059</th>\n",
       "      <td>DOD100037100</td>\n",
       "      <td>Camp Pendleton Marine Corps Base (Mcb) - Ou 3 ...</td>\n",
       "      <td>NaN</td>\n",
       "      <td>Box 555008</td>\n",
       "      <td>Camp Pendleton</td>\n",
       "      <td>CA</td>\n",
       "      <td>92055-5008</td>\n",
       "      <td>San Diego</td>\n",
       "      <td>9</td>\n",
       "      <td>33.395000</td>\n",
       "      <td>...</td>\n",
       "      <td>NaN</td>\n",
       "      <td>1999-03-31</td>\n",
       "      <td>San Juan - San Mateo Canyon (901.40)</td>\n",
       "      <td>San Mateo Valley (9-002)</td>\n",
       "      <td>NaN</td>\n",
       "      <td>26-30%</td>\n",
       "      <td>45-50%</td>\n",
       "      <td>Yes</td>\n",
       "      <td>NaN</td>\n",
       "      <td>SAN DIEGO RWQCB (REGION 9)</td>\n",
       "    </tr>\n",
       "    <tr>\n",
       "      <th>75060</th>\n",
       "      <td>T0604500317</td>\n",
       "      <td>Cdf Hopland</td>\n",
       "      <td>11000</td>\n",
       "      <td>HIGHWAY 101, SOUTH</td>\n",
       "      <td>Hopland</td>\n",
       "      <td>CA</td>\n",
       "      <td>95490</td>\n",
       "      <td>Mendocino</td>\n",
       "      <td>9</td>\n",
       "      <td>39.003077</td>\n",
       "      <td>...</td>\n",
       "      <td>NaN</td>\n",
       "      <td>2013-03-18</td>\n",
       "      <td>Russian River - Upper Russian River - Ukiah (1...</td>\n",
       "      <td>NaN</td>\n",
       "      <td>NaN</td>\n",
       "      <td>16-20%</td>\n",
       "      <td>10-15%</td>\n",
       "      <td>No</td>\n",
       "      <td>NaN</td>\n",
       "      <td>NORTH COAST RWQCB (REGION 1)</td>\n",
       "    </tr>\n",
       "    <tr>\n",
       "      <th>75061</th>\n",
       "      <td>T10000000477</td>\n",
       "      <td>Imperial Beach Naval Auxiliary Landing Field (...</td>\n",
       "      <td>NaN</td>\n",
       "      <td>BLDG 183A</td>\n",
       "      <td>Imperial Beach</td>\n",
       "      <td>CA</td>\n",
       "      <td>91932</td>\n",
       "      <td>San Diego</td>\n",
       "      <td>9</td>\n",
       "      <td>32.567051</td>\n",
       "      <td>...</td>\n",
       "      <td>Tank removed</td>\n",
       "      <td>2009-04-01</td>\n",
       "      <td>Tijuana - Tijuana Valley - San Ysidro (911.11)</td>\n",
       "      <td>Coastal Plain Of San Diego (9-033)</td>\n",
       "      <td>NaN</td>\n",
       "      <td>26-30%</td>\n",
       "      <td>55-60%</td>\n",
       "      <td>Yes</td>\n",
       "      <td>NaN</td>\n",
       "      <td>SAN DIEGO RWQCB (REGION 9)</td>\n",
       "    </tr>\n",
       "    <tr>\n",
       "      <th>75062</th>\n",
       "      <td>T06019765361</td>\n",
       "      <td>Vietnam Veterans Of Sd</td>\n",
       "      <td>4141</td>\n",
       "      <td>PACIFIC HY</td>\n",
       "      <td>San Diego</td>\n",
       "      <td>CA</td>\n",
       "      <td>92110</td>\n",
       "      <td>San Diego</td>\n",
       "      <td>9</td>\n",
       "      <td>32.744747</td>\n",
       "      <td>...</td>\n",
       "      <td>CLOSE AND REMOVE TANK</td>\n",
       "      <td>2006-06-23</td>\n",
       "      <td>Pueblo San Diego - San Diego Mesa - Lindbergh ...</td>\n",
       "      <td>Mission Valley (9-014)</td>\n",
       "      <td>NaN</td>\n",
       "      <td>61-65%</td>\n",
       "      <td>55-60%</td>\n",
       "      <td>No</td>\n",
       "      <td>NaN</td>\n",
       "      <td>SAN DIEGO RWQCB (REGION 9)</td>\n",
       "    </tr>\n",
       "  </tbody>\n",
       "</table>\n",
       "<p>75063 rows × 44 columns</p>\n",
       "</div>"
      ],
      "text/plain": [
       "          GLOBAL_ID                                      BUSINESS_NAME  \\\n",
       "0      DOD100186700  Fort Hunter Liggett - Fort Hunter Liggett - La...   \n",
       "1      T10000012752                                          Mcphail'S   \n",
       "2      NPD100051582                               San Luis Obispo Wwtp   \n",
       "3       T0604762455                              Smothers Deluxe Shell   \n",
       "4      T10000006370                               One Lawrence Station   \n",
       "...             ...                                                ...   \n",
       "75058  SLT5S0753116  Chevron Pipeline Co - Former Standard Oil Pipe...   \n",
       "75059  DOD100037100  Camp Pendleton Marine Corps Base (Mcb) - Ou 3 ...   \n",
       "75060   T0604500317                                        Cdf Hopland   \n",
       "75061  T10000000477  Imperial Beach Naval Auxiliary Landing Field (...   \n",
       "75062  T06019765361                             Vietnam Veterans Of Sd   \n",
       "\n",
       "      STREET_NUMBER         STREET_NAME             CITY STATE         ZIP  \\\n",
       "0               NaN                 NaN            Jolon    CA      -93928   \n",
       "1               975       Wright Street       Santa Rosa    CA       95407   \n",
       "2                35          Prado Road  San Luis Obispo    CA       93401   \n",
       "3                55    WEST 16TH STREET           Merced    CA       95340   \n",
       "4              3305          Kifer Road      Santa Clara    CA       95051   \n",
       "...             ...                 ...              ...   ...         ...   \n",
       "75058           NaN          HIGHWAY 33        Patterson    CA         NaN   \n",
       "75059           NaN          Box 555008   Camp Pendleton    CA  92055-5008   \n",
       "75060         11000  HIGHWAY 101, SOUTH          Hopland    CA       95490   \n",
       "75061           NaN           BLDG 183A   Imperial Beach    CA       91932   \n",
       "75062          4141          PACIFIC HY        San Diego    CA       92110   \n",
       "\n",
       "                COUNTY  EPA_REGION   LATITUDE  ...       STOP_DESCRIPTION  \\\n",
       "0             Monterey           9  35.975332  ...                    NaN   \n",
       "1               Sonoma           9  38.452190  ...                    NaN   \n",
       "2      San Luis Obispo           9  35.256328  ...                    NaN   \n",
       "3               Merced           9  37.298192  ...                    NaN   \n",
       "4          Santa Clara           9  37.374631  ...                unknown   \n",
       "...                ...         ...        ...  ...                    ...   \n",
       "75058       Stanislaus           9  37.472398  ...                    NaN   \n",
       "75059        San Diego           9  33.395000  ...                    NaN   \n",
       "75060        Mendocino           9  39.003077  ...                    NaN   \n",
       "75061        San Diego           9  32.567051  ...           Tank removed   \n",
       "75062        San Diego           9  32.744747  ...  CLOSE AND REMOVE TANK   \n",
       "\n",
       "      NO_FURTHER_ACTION_DATE  \\\n",
       "0                        NaT   \n",
       "1                        NaT   \n",
       "2                        NaT   \n",
       "3                        NaT   \n",
       "4                        NaT   \n",
       "...                      ...   \n",
       "75058                    NaT   \n",
       "75059             1999-03-31   \n",
       "75060             2013-03-18   \n",
       "75061             2009-04-01   \n",
       "75062             2006-06-23   \n",
       "\n",
       "                                 CALWATER_WATERSHED_NAME  \\\n",
       "0            Salinas - Paso Robles - Atascadero (309.81)   \n",
       "1      Russian River - Middle Russian River - Santa R...   \n",
       "2      Estero Bay - Point Buchon - San Luis Obispo Cr...   \n",
       "3             San Joaquin Valley Floor - Merced (535.80)   \n",
       "4                       Santa Clara - Palo Alto (205.50)   \n",
       "...                                                  ...   \n",
       "75058           Delta-Mendota Canal - Patterson (541.10)   \n",
       "75059               San Juan - San Mateo Canyon (901.40)   \n",
       "75060  Russian River - Upper Russian River - Ukiah (1...   \n",
       "75061     Tijuana - Tijuana Valley - San Ysidro (911.11)   \n",
       "75062  Pueblo San Diego - San Diego Mesa - Lindbergh ...   \n",
       "\n",
       "                         DWR_GROUNDWATER_SUBBASIN_NAME  \\\n",
       "0                              Lockwood Valley (3-006)   \n",
       "1      Santa Rosa Valley - Santa Rosa Plain (1-055.01)   \n",
       "2                       San Luis Obispo Valley (3-009)   \n",
       "3               San Joaquin Valley - Merced (5-022.04)   \n",
       "4          Santa Clara Valley - Santa Clara (2-009.02)   \n",
       "...                                                ...   \n",
       "75058    San Joaquin Valley - Delta-Mendota (5-022.07)   \n",
       "75059                         San Mateo Valley (9-002)   \n",
       "75060                                              NaN   \n",
       "75061               Coastal Plain Of San Diego (9-033)   \n",
       "75062                           Mission Valley (9-014)   \n",
       "\n",
       "                DISADVANTAGED_COMMUNITY CALENVIROSCREEN3_SCORE  \\\n",
       "0                                   NaN                 41-45%   \n",
       "1                                   NaN                 21-25%   \n",
       "2                                   NaN                 16-20%   \n",
       "3      Severely Disadvantaged Community                 91-95%   \n",
       "4                                   NaN                 36-40%   \n",
       "...                                 ...                    ...   \n",
       "75058           Disadvantaged Community                 81-85%   \n",
       "75059                               NaN                 26-30%   \n",
       "75060                               NaN                 16-20%   \n",
       "75061                               NaN                 26-30%   \n",
       "75062                               NaN                 61-65%   \n",
       "\n",
       "         CALENVIROSCREEN4_SCORE MILITARY_DOD_SITE FACILITY_PROJECT_SUBTYPE  \\\n",
       "0                        45-50%               Yes                      NaN   \n",
       "1                        20-25%                No                      NaN   \n",
       "2                        35-40%                No                      NaN   \n",
       "3      95-100% (highest scores)                No                      NaN   \n",
       "4                        35-40%                No                      NaN   \n",
       "...                         ...               ...                      ...   \n",
       "75058                    60-65%                No                      NaN   \n",
       "75059                    45-50%               Yes                      NaN   \n",
       "75060                    10-15%                No                      NaN   \n",
       "75061                    55-60%               Yes                      NaN   \n",
       "75062                    55-60%                No                      NaN   \n",
       "\n",
       "                             RWQCB_REGION  \n",
       "0          CENTRAL COAST RWQCB (REGION 3)  \n",
       "1            NORTH COAST RWQCB (REGION 1)  \n",
       "2          CENTRAL COAST RWQCB (REGION 3)  \n",
       "3        CENTRAL VALLEY RWQCB (REGION 5F)  \n",
       "4      SAN FRANCISCO BAY RWQCB (REGION 2)  \n",
       "...                                   ...  \n",
       "75058    CENTRAL VALLEY RWQCB (REGION 5S)  \n",
       "75059          SAN DIEGO RWQCB (REGION 9)  \n",
       "75060        NORTH COAST RWQCB (REGION 1)  \n",
       "75061          SAN DIEGO RWQCB (REGION 9)  \n",
       "75062          SAN DIEGO RWQCB (REGION 9)  \n",
       "\n",
       "[75063 rows x 44 columns]"
      ]
     },
     "execution_count": 296,
     "metadata": {},
     "output_type": "execute_result"
    }
   ],
   "source": [
    "data_df"
   ]
  },
  {
   "cell_type": "code",
   "execution_count": 297,
   "id": "d9f07f83-54e6-480f-81a6-69128294ba88",
   "metadata": {},
   "outputs": [
    {
     "data": {
      "text/html": [
       "<div>\n",
       "<style scoped>\n",
       "    .dataframe tbody tr th:only-of-type {\n",
       "        vertical-align: middle;\n",
       "    }\n",
       "\n",
       "    .dataframe tbody tr th {\n",
       "        vertical-align: top;\n",
       "    }\n",
       "\n",
       "    .dataframe thead th {\n",
       "        text-align: right;\n",
       "    }\n",
       "</style>\n",
       "<table border=\"1\" class=\"dataframe\">\n",
       "  <thead>\n",
       "    <tr style=\"text-align: right;\">\n",
       "      <th></th>\n",
       "      <th>LEAK_REPORTED_DATE</th>\n",
       "      <th>STATUS_DATE</th>\n",
       "      <th>BEGIN_DATE</th>\n",
       "      <th>NO_FURTHER_ACTION_DATE</th>\n",
       "    </tr>\n",
       "  </thead>\n",
       "  <tbody>\n",
       "    <tr>\n",
       "      <th>213</th>\n",
       "      <td>1991-11-26</td>\n",
       "      <td>1996-03-19</td>\n",
       "      <td>1991-10-02</td>\n",
       "      <td>1996-03-19</td>\n",
       "    </tr>\n",
       "    <tr>\n",
       "      <th>214</th>\n",
       "      <td>1988-07-18</td>\n",
       "      <td>1996-03-19</td>\n",
       "      <td>1988-07-14</td>\n",
       "      <td>1996-03-19</td>\n",
       "    </tr>\n",
       "    <tr>\n",
       "      <th>218</th>\n",
       "      <td>1991-12-02</td>\n",
       "      <td>1996-03-19</td>\n",
       "      <td>1991-10-17</td>\n",
       "      <td>1996-03-19</td>\n",
       "    </tr>\n",
       "    <tr>\n",
       "      <th>221</th>\n",
       "      <td>1989-12-04</td>\n",
       "      <td>1996-03-19</td>\n",
       "      <td>1989-12-04</td>\n",
       "      <td>1996-03-19</td>\n",
       "    </tr>\n",
       "    <tr>\n",
       "      <th>226</th>\n",
       "      <td>1990-06-22</td>\n",
       "      <td>1996-03-19</td>\n",
       "      <td>1989-09-22</td>\n",
       "      <td>1996-03-19</td>\n",
       "    </tr>\n",
       "    <tr>\n",
       "      <th>...</th>\n",
       "      <td>...</td>\n",
       "      <td>...</td>\n",
       "      <td>...</td>\n",
       "      <td>...</td>\n",
       "    </tr>\n",
       "    <tr>\n",
       "      <th>75056</th>\n",
       "      <td>1965-01-02</td>\n",
       "      <td>1995-06-16</td>\n",
       "      <td>1987-04-07</td>\n",
       "      <td>1995-06-16</td>\n",
       "    </tr>\n",
       "    <tr>\n",
       "      <th>75057</th>\n",
       "      <td>1990-09-11</td>\n",
       "      <td>1998-12-16</td>\n",
       "      <td>1990-09-11</td>\n",
       "      <td>1998-12-16</td>\n",
       "    </tr>\n",
       "    <tr>\n",
       "      <th>75060</th>\n",
       "      <td>1998-07-06</td>\n",
       "      <td>2013-03-18</td>\n",
       "      <td>1998-07-06</td>\n",
       "      <td>2013-03-18</td>\n",
       "    </tr>\n",
       "    <tr>\n",
       "      <th>75061</th>\n",
       "      <td>2008-04-17</td>\n",
       "      <td>2009-04-01</td>\n",
       "      <td>2007-07-29</td>\n",
       "      <td>2009-04-01</td>\n",
       "    </tr>\n",
       "    <tr>\n",
       "      <th>75062</th>\n",
       "      <td>2004-04-16</td>\n",
       "      <td>2006-06-23</td>\n",
       "      <td>2004-04-16</td>\n",
       "      <td>2006-06-23</td>\n",
       "    </tr>\n",
       "  </tbody>\n",
       "</table>\n",
       "<p>48602 rows × 4 columns</p>\n",
       "</div>"
      ],
      "text/plain": [
       "      LEAK_REPORTED_DATE STATUS_DATE BEGIN_DATE NO_FURTHER_ACTION_DATE\n",
       "213           1991-11-26  1996-03-19 1991-10-02             1996-03-19\n",
       "214           1988-07-18  1996-03-19 1988-07-14             1996-03-19\n",
       "218           1991-12-02  1996-03-19 1991-10-17             1996-03-19\n",
       "221           1989-12-04  1996-03-19 1989-12-04             1996-03-19\n",
       "226           1990-06-22  1996-03-19 1989-09-22             1996-03-19\n",
       "...                  ...         ...        ...                    ...\n",
       "75056         1965-01-02  1995-06-16 1987-04-07             1995-06-16\n",
       "75057         1990-09-11  1998-12-16 1990-09-11             1998-12-16\n",
       "75060         1998-07-06  2013-03-18 1998-07-06             2013-03-18\n",
       "75061         2008-04-17  2009-04-01 2007-07-29             2009-04-01\n",
       "75062         2004-04-16  2006-06-23 2004-04-16             2006-06-23\n",
       "\n",
       "[48602 rows x 4 columns]"
      ]
     },
     "execution_count": 297,
     "metadata": {},
     "output_type": "execute_result"
    }
   ],
   "source": [
    "data_df_nomissing_dates"
   ]
  },
  {
   "cell_type": "markdown",
   "id": "1a1e706e-d289-42fd-8e69-74d259db8f52",
   "metadata": {},
   "source": [
    "Possible columns to ignore to go through with Arwa, CLAIM_NO, each row is already a claim so no need for it seeing that 55960 are null. CLAIM_STATUS? S:W, CALWATER_WATERSHED_NAME,SUBBASIN_NAME\n",
    "cal enviroscreen https://oehha.ca.gov/calenviroscreen/report/calenviroscreen-40\n",
    "https://oehha.ca.gov/media/downloads/calenviroscreen/document/calenviroscreen40summaryofchangesf2021.pdf\n",
    "calenviro3 is old calc\n",
    "4 is new calc based on 132 new contaminats added to database"
   ]
  },
  {
   "cell_type": "markdown",
   "id": "21e0e1f0-6293-45b6-a43b-2d02b69fa7cd",
   "metadata": {},
   "source": [
    "Disadvantaged Communities (DACs)\n",
    "A community is considered a DAC if its CalEnviroScreen 4.0 score is in the top 25% statewide.\n",
    "This means a CES4.0 percentile of ≥ 75% (e.g., \"75-80%\", \"95-100%\").\n",
    "Severely Disadvantaged Communities (SDACs)\n",
    "SDACs are NOT directly determined by CalEnviroScreen scores.\n",
    "Instead, they are based on Median Household Income (MHI) ≤ 60% of the state median (from other datasets like Census data).\n",
    "However, SDACs often overlap with DACs since high CES scores correlate with lower-income areas.\n",
    "Key Takeaway\n",
    "If \"CALENVIROSCREEN4_SCORE\" is ≥ 75%, the community is a DAC.\n",
    "SDACs require income data, so CES4.0 alone isn't enough to classify them.\n",
    "https://sgc.ca.gov/technical-assistance/toolkit/definitions.html?utm_source=chatgpt.com"
   ]
  },
  {
   "cell_type": "markdown",
   "id": "0d87a04f-2d27-4f6c-a7f8-52a86417206e",
   "metadata": {},
   "source": [
    "# Q1 days taken to report if any and days to rectify if done"
   ]
  },
  {
   "cell_type": "code",
   "execution_count": 298,
   "id": "d71f906e-c715-4cd0-9d2c-10894d8aa86f",
   "metadata": {},
   "outputs": [
    {
     "data": {
      "text/html": [
       "<div>\n",
       "<style scoped>\n",
       "    .dataframe tbody tr th:only-of-type {\n",
       "        vertical-align: middle;\n",
       "    }\n",
       "\n",
       "    .dataframe tbody tr th {\n",
       "        vertical-align: top;\n",
       "    }\n",
       "\n",
       "    .dataframe thead th {\n",
       "        text-align: right;\n",
       "    }\n",
       "</style>\n",
       "<table border=\"1\" class=\"dataframe\">\n",
       "  <thead>\n",
       "    <tr style=\"text-align: right;\">\n",
       "      <th></th>\n",
       "      <th>GLOBAL_ID</th>\n",
       "      <th>BUSINESS_NAME</th>\n",
       "      <th>STREET_NUMBER</th>\n",
       "      <th>STREET_NAME</th>\n",
       "      <th>CITY</th>\n",
       "      <th>STATE</th>\n",
       "      <th>ZIP</th>\n",
       "      <th>COUNTY</th>\n",
       "      <th>EPA_REGION</th>\n",
       "      <th>LATITUDE</th>\n",
       "      <th>...</th>\n",
       "      <th>STOP_DESCRIPTION</th>\n",
       "      <th>NO_FURTHER_ACTION_DATE</th>\n",
       "      <th>CALWATER_WATERSHED_NAME</th>\n",
       "      <th>DWR_GROUNDWATER_SUBBASIN_NAME</th>\n",
       "      <th>DISADVANTAGED_COMMUNITY</th>\n",
       "      <th>CALENVIROSCREEN3_SCORE</th>\n",
       "      <th>CALENVIROSCREEN4_SCORE</th>\n",
       "      <th>MILITARY_DOD_SITE</th>\n",
       "      <th>FACILITY_PROJECT_SUBTYPE</th>\n",
       "      <th>RWQCB_REGION</th>\n",
       "    </tr>\n",
       "  </thead>\n",
       "  <tbody>\n",
       "    <tr>\n",
       "      <th>0</th>\n",
       "      <td>DOD100186700</td>\n",
       "      <td>Fort Hunter Liggett - Fort Hunter Liggett - La...</td>\n",
       "      <td>NaN</td>\n",
       "      <td>NaN</td>\n",
       "      <td>Jolon</td>\n",
       "      <td>CA</td>\n",
       "      <td>-93928</td>\n",
       "      <td>Monterey</td>\n",
       "      <td>9</td>\n",
       "      <td>35.975332</td>\n",
       "      <td>...</td>\n",
       "      <td>NaN</td>\n",
       "      <td>NaT</td>\n",
       "      <td>Salinas - Paso Robles - Atascadero (309.81)</td>\n",
       "      <td>Lockwood Valley (3-006)</td>\n",
       "      <td>NaN</td>\n",
       "      <td>41-45%</td>\n",
       "      <td>45-50%</td>\n",
       "      <td>Yes</td>\n",
       "      <td>NaN</td>\n",
       "      <td>CENTRAL COAST RWQCB (REGION 3)</td>\n",
       "    </tr>\n",
       "    <tr>\n",
       "      <th>1</th>\n",
       "      <td>T10000012752</td>\n",
       "      <td>Mcphail'S</td>\n",
       "      <td>975</td>\n",
       "      <td>Wright Street</td>\n",
       "      <td>Santa Rosa</td>\n",
       "      <td>CA</td>\n",
       "      <td>95407</td>\n",
       "      <td>Sonoma</td>\n",
       "      <td>9</td>\n",
       "      <td>38.452190</td>\n",
       "      <td>...</td>\n",
       "      <td>NaN</td>\n",
       "      <td>NaT</td>\n",
       "      <td>Russian River - Middle Russian River - Santa R...</td>\n",
       "      <td>Santa Rosa Valley - Santa Rosa Plain (1-055.01)</td>\n",
       "      <td>NaN</td>\n",
       "      <td>21-25%</td>\n",
       "      <td>20-25%</td>\n",
       "      <td>No</td>\n",
       "      <td>NaN</td>\n",
       "      <td>NORTH COAST RWQCB (REGION 1)</td>\n",
       "    </tr>\n",
       "    <tr>\n",
       "      <th>2</th>\n",
       "      <td>NPD100051582</td>\n",
       "      <td>San Luis Obispo Wwtp</td>\n",
       "      <td>35</td>\n",
       "      <td>Prado Road</td>\n",
       "      <td>San Luis Obispo</td>\n",
       "      <td>CA</td>\n",
       "      <td>93401</td>\n",
       "      <td>San Luis Obispo</td>\n",
       "      <td>9</td>\n",
       "      <td>35.256328</td>\n",
       "      <td>...</td>\n",
       "      <td>NaN</td>\n",
       "      <td>NaT</td>\n",
       "      <td>Estero Bay - Point Buchon - San Luis Obispo Cr...</td>\n",
       "      <td>San Luis Obispo Valley (3-009)</td>\n",
       "      <td>NaN</td>\n",
       "      <td>16-20%</td>\n",
       "      <td>35-40%</td>\n",
       "      <td>No</td>\n",
       "      <td>NaN</td>\n",
       "      <td>CENTRAL COAST RWQCB (REGION 3)</td>\n",
       "    </tr>\n",
       "    <tr>\n",
       "      <th>3</th>\n",
       "      <td>T0604762455</td>\n",
       "      <td>Smothers Deluxe Shell</td>\n",
       "      <td>55</td>\n",
       "      <td>WEST 16TH STREET</td>\n",
       "      <td>Merced</td>\n",
       "      <td>CA</td>\n",
       "      <td>95340</td>\n",
       "      <td>Merced</td>\n",
       "      <td>9</td>\n",
       "      <td>37.298192</td>\n",
       "      <td>...</td>\n",
       "      <td>NaN</td>\n",
       "      <td>NaT</td>\n",
       "      <td>San Joaquin Valley Floor - Merced (535.80)</td>\n",
       "      <td>San Joaquin Valley - Merced (5-022.04)</td>\n",
       "      <td>Severely Disadvantaged Community</td>\n",
       "      <td>91-95%</td>\n",
       "      <td>95-100% (highest scores)</td>\n",
       "      <td>No</td>\n",
       "      <td>NaN</td>\n",
       "      <td>CENTRAL VALLEY RWQCB (REGION 5F)</td>\n",
       "    </tr>\n",
       "    <tr>\n",
       "      <th>4</th>\n",
       "      <td>T10000006370</td>\n",
       "      <td>One Lawrence Station</td>\n",
       "      <td>3305</td>\n",
       "      <td>Kifer Road</td>\n",
       "      <td>Santa Clara</td>\n",
       "      <td>CA</td>\n",
       "      <td>95051</td>\n",
       "      <td>Santa Clara</td>\n",
       "      <td>9</td>\n",
       "      <td>37.374631</td>\n",
       "      <td>...</td>\n",
       "      <td>unknown</td>\n",
       "      <td>NaT</td>\n",
       "      <td>Santa Clara - Palo Alto (205.50)</td>\n",
       "      <td>Santa Clara Valley - Santa Clara (2-009.02)</td>\n",
       "      <td>NaN</td>\n",
       "      <td>36-40%</td>\n",
       "      <td>35-40%</td>\n",
       "      <td>No</td>\n",
       "      <td>NaN</td>\n",
       "      <td>SAN FRANCISCO BAY RWQCB (REGION 2)</td>\n",
       "    </tr>\n",
       "    <tr>\n",
       "      <th>...</th>\n",
       "      <td>...</td>\n",
       "      <td>...</td>\n",
       "      <td>...</td>\n",
       "      <td>...</td>\n",
       "      <td>...</td>\n",
       "      <td>...</td>\n",
       "      <td>...</td>\n",
       "      <td>...</td>\n",
       "      <td>...</td>\n",
       "      <td>...</td>\n",
       "      <td>...</td>\n",
       "      <td>...</td>\n",
       "      <td>...</td>\n",
       "      <td>...</td>\n",
       "      <td>...</td>\n",
       "      <td>...</td>\n",
       "      <td>...</td>\n",
       "      <td>...</td>\n",
       "      <td>...</td>\n",
       "      <td>...</td>\n",
       "      <td>...</td>\n",
       "    </tr>\n",
       "    <tr>\n",
       "      <th>75058</th>\n",
       "      <td>SLT5S0753116</td>\n",
       "      <td>Chevron Pipeline Co - Former Standard Oil Pipe...</td>\n",
       "      <td>NaN</td>\n",
       "      <td>HIGHWAY 33</td>\n",
       "      <td>Patterson</td>\n",
       "      <td>CA</td>\n",
       "      <td>NaN</td>\n",
       "      <td>Stanislaus</td>\n",
       "      <td>9</td>\n",
       "      <td>37.472398</td>\n",
       "      <td>...</td>\n",
       "      <td>NaN</td>\n",
       "      <td>NaT</td>\n",
       "      <td>Delta-Mendota Canal - Patterson (541.10)</td>\n",
       "      <td>San Joaquin Valley - Delta-Mendota (5-022.07)</td>\n",
       "      <td>Disadvantaged Community</td>\n",
       "      <td>81-85%</td>\n",
       "      <td>60-65%</td>\n",
       "      <td>No</td>\n",
       "      <td>NaN</td>\n",
       "      <td>CENTRAL VALLEY RWQCB (REGION 5S)</td>\n",
       "    </tr>\n",
       "    <tr>\n",
       "      <th>75059</th>\n",
       "      <td>DOD100037100</td>\n",
       "      <td>Camp Pendleton Marine Corps Base (Mcb) - Ou 3 ...</td>\n",
       "      <td>NaN</td>\n",
       "      <td>Box 555008</td>\n",
       "      <td>Camp Pendleton</td>\n",
       "      <td>CA</td>\n",
       "      <td>92055-5008</td>\n",
       "      <td>San Diego</td>\n",
       "      <td>9</td>\n",
       "      <td>33.395000</td>\n",
       "      <td>...</td>\n",
       "      <td>NaN</td>\n",
       "      <td>1999-03-31</td>\n",
       "      <td>San Juan - San Mateo Canyon (901.40)</td>\n",
       "      <td>San Mateo Valley (9-002)</td>\n",
       "      <td>NaN</td>\n",
       "      <td>26-30%</td>\n",
       "      <td>45-50%</td>\n",
       "      <td>Yes</td>\n",
       "      <td>NaN</td>\n",
       "      <td>SAN DIEGO RWQCB (REGION 9)</td>\n",
       "    </tr>\n",
       "    <tr>\n",
       "      <th>75060</th>\n",
       "      <td>T0604500317</td>\n",
       "      <td>Cdf Hopland</td>\n",
       "      <td>11000</td>\n",
       "      <td>HIGHWAY 101, SOUTH</td>\n",
       "      <td>Hopland</td>\n",
       "      <td>CA</td>\n",
       "      <td>95490</td>\n",
       "      <td>Mendocino</td>\n",
       "      <td>9</td>\n",
       "      <td>39.003077</td>\n",
       "      <td>...</td>\n",
       "      <td>NaN</td>\n",
       "      <td>2013-03-18</td>\n",
       "      <td>Russian River - Upper Russian River - Ukiah (1...</td>\n",
       "      <td>NaN</td>\n",
       "      <td>NaN</td>\n",
       "      <td>16-20%</td>\n",
       "      <td>10-15%</td>\n",
       "      <td>No</td>\n",
       "      <td>NaN</td>\n",
       "      <td>NORTH COAST RWQCB (REGION 1)</td>\n",
       "    </tr>\n",
       "    <tr>\n",
       "      <th>75061</th>\n",
       "      <td>T10000000477</td>\n",
       "      <td>Imperial Beach Naval Auxiliary Landing Field (...</td>\n",
       "      <td>NaN</td>\n",
       "      <td>BLDG 183A</td>\n",
       "      <td>Imperial Beach</td>\n",
       "      <td>CA</td>\n",
       "      <td>91932</td>\n",
       "      <td>San Diego</td>\n",
       "      <td>9</td>\n",
       "      <td>32.567051</td>\n",
       "      <td>...</td>\n",
       "      <td>Tank removed</td>\n",
       "      <td>2009-04-01</td>\n",
       "      <td>Tijuana - Tijuana Valley - San Ysidro (911.11)</td>\n",
       "      <td>Coastal Plain Of San Diego (9-033)</td>\n",
       "      <td>NaN</td>\n",
       "      <td>26-30%</td>\n",
       "      <td>55-60%</td>\n",
       "      <td>Yes</td>\n",
       "      <td>NaN</td>\n",
       "      <td>SAN DIEGO RWQCB (REGION 9)</td>\n",
       "    </tr>\n",
       "    <tr>\n",
       "      <th>75062</th>\n",
       "      <td>T06019765361</td>\n",
       "      <td>Vietnam Veterans Of Sd</td>\n",
       "      <td>4141</td>\n",
       "      <td>PACIFIC HY</td>\n",
       "      <td>San Diego</td>\n",
       "      <td>CA</td>\n",
       "      <td>92110</td>\n",
       "      <td>San Diego</td>\n",
       "      <td>9</td>\n",
       "      <td>32.744747</td>\n",
       "      <td>...</td>\n",
       "      <td>CLOSE AND REMOVE TANK</td>\n",
       "      <td>2006-06-23</td>\n",
       "      <td>Pueblo San Diego - San Diego Mesa - Lindbergh ...</td>\n",
       "      <td>Mission Valley (9-014)</td>\n",
       "      <td>NaN</td>\n",
       "      <td>61-65%</td>\n",
       "      <td>55-60%</td>\n",
       "      <td>No</td>\n",
       "      <td>NaN</td>\n",
       "      <td>SAN DIEGO RWQCB (REGION 9)</td>\n",
       "    </tr>\n",
       "  </tbody>\n",
       "</table>\n",
       "<p>75063 rows × 44 columns</p>\n",
       "</div>"
      ],
      "text/plain": [
       "          GLOBAL_ID                                      BUSINESS_NAME  \\\n",
       "0      DOD100186700  Fort Hunter Liggett - Fort Hunter Liggett - La...   \n",
       "1      T10000012752                                          Mcphail'S   \n",
       "2      NPD100051582                               San Luis Obispo Wwtp   \n",
       "3       T0604762455                              Smothers Deluxe Shell   \n",
       "4      T10000006370                               One Lawrence Station   \n",
       "...             ...                                                ...   \n",
       "75058  SLT5S0753116  Chevron Pipeline Co - Former Standard Oil Pipe...   \n",
       "75059  DOD100037100  Camp Pendleton Marine Corps Base (Mcb) - Ou 3 ...   \n",
       "75060   T0604500317                                        Cdf Hopland   \n",
       "75061  T10000000477  Imperial Beach Naval Auxiliary Landing Field (...   \n",
       "75062  T06019765361                             Vietnam Veterans Of Sd   \n",
       "\n",
       "      STREET_NUMBER         STREET_NAME             CITY STATE         ZIP  \\\n",
       "0               NaN                 NaN            Jolon    CA      -93928   \n",
       "1               975       Wright Street       Santa Rosa    CA       95407   \n",
       "2                35          Prado Road  San Luis Obispo    CA       93401   \n",
       "3                55    WEST 16TH STREET           Merced    CA       95340   \n",
       "4              3305          Kifer Road      Santa Clara    CA       95051   \n",
       "...             ...                 ...              ...   ...         ...   \n",
       "75058           NaN          HIGHWAY 33        Patterson    CA         NaN   \n",
       "75059           NaN          Box 555008   Camp Pendleton    CA  92055-5008   \n",
       "75060         11000  HIGHWAY 101, SOUTH          Hopland    CA       95490   \n",
       "75061           NaN           BLDG 183A   Imperial Beach    CA       91932   \n",
       "75062          4141          PACIFIC HY        San Diego    CA       92110   \n",
       "\n",
       "                COUNTY  EPA_REGION   LATITUDE  ...       STOP_DESCRIPTION  \\\n",
       "0             Monterey           9  35.975332  ...                    NaN   \n",
       "1               Sonoma           9  38.452190  ...                    NaN   \n",
       "2      San Luis Obispo           9  35.256328  ...                    NaN   \n",
       "3               Merced           9  37.298192  ...                    NaN   \n",
       "4          Santa Clara           9  37.374631  ...                unknown   \n",
       "...                ...         ...        ...  ...                    ...   \n",
       "75058       Stanislaus           9  37.472398  ...                    NaN   \n",
       "75059        San Diego           9  33.395000  ...                    NaN   \n",
       "75060        Mendocino           9  39.003077  ...                    NaN   \n",
       "75061        San Diego           9  32.567051  ...           Tank removed   \n",
       "75062        San Diego           9  32.744747  ...  CLOSE AND REMOVE TANK   \n",
       "\n",
       "      NO_FURTHER_ACTION_DATE  \\\n",
       "0                        NaT   \n",
       "1                        NaT   \n",
       "2                        NaT   \n",
       "3                        NaT   \n",
       "4                        NaT   \n",
       "...                      ...   \n",
       "75058                    NaT   \n",
       "75059             1999-03-31   \n",
       "75060             2013-03-18   \n",
       "75061             2009-04-01   \n",
       "75062             2006-06-23   \n",
       "\n",
       "                                 CALWATER_WATERSHED_NAME  \\\n",
       "0            Salinas - Paso Robles - Atascadero (309.81)   \n",
       "1      Russian River - Middle Russian River - Santa R...   \n",
       "2      Estero Bay - Point Buchon - San Luis Obispo Cr...   \n",
       "3             San Joaquin Valley Floor - Merced (535.80)   \n",
       "4                       Santa Clara - Palo Alto (205.50)   \n",
       "...                                                  ...   \n",
       "75058           Delta-Mendota Canal - Patterson (541.10)   \n",
       "75059               San Juan - San Mateo Canyon (901.40)   \n",
       "75060  Russian River - Upper Russian River - Ukiah (1...   \n",
       "75061     Tijuana - Tijuana Valley - San Ysidro (911.11)   \n",
       "75062  Pueblo San Diego - San Diego Mesa - Lindbergh ...   \n",
       "\n",
       "                         DWR_GROUNDWATER_SUBBASIN_NAME  \\\n",
       "0                              Lockwood Valley (3-006)   \n",
       "1      Santa Rosa Valley - Santa Rosa Plain (1-055.01)   \n",
       "2                       San Luis Obispo Valley (3-009)   \n",
       "3               San Joaquin Valley - Merced (5-022.04)   \n",
       "4          Santa Clara Valley - Santa Clara (2-009.02)   \n",
       "...                                                ...   \n",
       "75058    San Joaquin Valley - Delta-Mendota (5-022.07)   \n",
       "75059                         San Mateo Valley (9-002)   \n",
       "75060                                              NaN   \n",
       "75061               Coastal Plain Of San Diego (9-033)   \n",
       "75062                           Mission Valley (9-014)   \n",
       "\n",
       "                DISADVANTAGED_COMMUNITY CALENVIROSCREEN3_SCORE  \\\n",
       "0                                   NaN                 41-45%   \n",
       "1                                   NaN                 21-25%   \n",
       "2                                   NaN                 16-20%   \n",
       "3      Severely Disadvantaged Community                 91-95%   \n",
       "4                                   NaN                 36-40%   \n",
       "...                                 ...                    ...   \n",
       "75058           Disadvantaged Community                 81-85%   \n",
       "75059                               NaN                 26-30%   \n",
       "75060                               NaN                 16-20%   \n",
       "75061                               NaN                 26-30%   \n",
       "75062                               NaN                 61-65%   \n",
       "\n",
       "         CALENVIROSCREEN4_SCORE MILITARY_DOD_SITE FACILITY_PROJECT_SUBTYPE  \\\n",
       "0                        45-50%               Yes                      NaN   \n",
       "1                        20-25%                No                      NaN   \n",
       "2                        35-40%                No                      NaN   \n",
       "3      95-100% (highest scores)                No                      NaN   \n",
       "4                        35-40%                No                      NaN   \n",
       "...                         ...               ...                      ...   \n",
       "75058                    60-65%                No                      NaN   \n",
       "75059                    45-50%               Yes                      NaN   \n",
       "75060                    10-15%                No                      NaN   \n",
       "75061                    55-60%               Yes                      NaN   \n",
       "75062                    55-60%                No                      NaN   \n",
       "\n",
       "                             RWQCB_REGION  \n",
       "0          CENTRAL COAST RWQCB (REGION 3)  \n",
       "1            NORTH COAST RWQCB (REGION 1)  \n",
       "2          CENTRAL COAST RWQCB (REGION 3)  \n",
       "3        CENTRAL VALLEY RWQCB (REGION 5F)  \n",
       "4      SAN FRANCISCO BAY RWQCB (REGION 2)  \n",
       "...                                   ...  \n",
       "75058    CENTRAL VALLEY RWQCB (REGION 5S)  \n",
       "75059          SAN DIEGO RWQCB (REGION 9)  \n",
       "75060        NORTH COAST RWQCB (REGION 1)  \n",
       "75061          SAN DIEGO RWQCB (REGION 9)  \n",
       "75062          SAN DIEGO RWQCB (REGION 9)  \n",
       "\n",
       "[75063 rows x 44 columns]"
      ]
     },
     "execution_count": 298,
     "metadata": {},
     "output_type": "execute_result"
    }
   ],
   "source": [
    "data_df"
   ]
  },
  {
   "cell_type": "code",
   "execution_count": 299,
   "id": "42f464bd-22ec-41fd-a21f-e1000dae4bfb",
   "metadata": {},
   "outputs": [
    {
     "data": {
      "text/plain": [
       "Index(['GLOBAL_ID', 'BUSINESS_NAME', 'STREET_NUMBER', 'STREET_NAME', 'CITY',\n",
       "       'STATE', 'ZIP', 'COUNTY', 'EPA_REGION', 'LATITUDE', 'LONGITUDE',\n",
       "       'COORDINATE_SOURCE', 'CASE_TYPE', 'STATUS', 'STATUS_DATE', 'CLAIM_NO',\n",
       "       'CLAIM_STATUS', 'LEAD_AGENCY', 'CASEWORKER', 'LOCAL_AGENCY',\n",
       "       'RB_CASE_NUMBER', 'LOC_CASE_NUMBER', 'FILE_LOCATION',\n",
       "       'POTENTIAL_CONTAMINANTS_OF_CONCERN', 'QUANTITY_RELEASED_GALLONS',\n",
       "       'POTENTIAL_MEDIA_OF_CONCERN', 'SITE_HISTORY', 'BEGIN_DATE',\n",
       "       'LEAK_REPORTED_DATE', 'HOW_DISCOVERED', 'HOW_DISCOVERED_DESCRIPTION',\n",
       "       'DISCHARGE_SOURCE', 'DISCHARGE_CAUSE', 'STOP_METHOD',\n",
       "       'STOP_DESCRIPTION', 'NO_FURTHER_ACTION_DATE', 'CALWATER_WATERSHED_NAME',\n",
       "       'DWR_GROUNDWATER_SUBBASIN_NAME', 'DISADVANTAGED_COMMUNITY',\n",
       "       'CALENVIROSCREEN3_SCORE', 'CALENVIROSCREEN4_SCORE', 'MILITARY_DOD_SITE',\n",
       "       'FACILITY_PROJECT_SUBTYPE', 'RWQCB_REGION'],\n",
       "      dtype='object')"
      ]
     },
     "execution_count": 299,
     "metadata": {},
     "output_type": "execute_result"
    }
   ],
   "source": [
    "data_df.columns"
   ]
  },
  {
   "cell_type": "code",
   "execution_count": 300,
   "id": "463ee862-239d-40f4-8116-4036dd60aa2f",
   "metadata": {},
   "outputs": [],
   "source": [
    "X=data_df['BEGIN_DATE']-data_df['LEAK_REPORTED_DATE']  #begin date is the date the case was opened once the leak was discovered"
   ]
  },
  {
   "cell_type": "code",
   "execution_count": 301,
   "id": "4a3b05bd-9ab5-4a35-86ae-d5b568af1727",
   "metadata": {},
   "outputs": [],
   "source": [
    "data_df['DAYS_TO_REPORT_LEAK']=X"
   ]
  },
  {
   "cell_type": "code",
   "execution_count": 302,
   "id": "c7cbe558-9985-4698-bde2-978b7f6f16b9",
   "metadata": {},
   "outputs": [
    {
     "data": {
      "text/plain": [
       "0              NaT\n",
       "1              NaT\n",
       "2              NaT\n",
       "3           0 days\n",
       "4           0 days\n",
       "           ...    \n",
       "75058   12137 days\n",
       "75059          NaT\n",
       "75060       0 days\n",
       "75061    -263 days\n",
       "75062       0 days\n",
       "Name: DAYS_TO_REPORT_LEAK, Length: 75063, dtype: timedelta64[ns]"
      ]
     },
     "execution_count": 302,
     "metadata": {},
     "output_type": "execute_result"
    }
   ],
   "source": [
    "data_df['DAYS_TO_REPORT_LEAK']"
   ]
  },
  {
   "cell_type": "code",
   "execution_count": 303,
   "id": "644946ac-d96b-4c8e-8e9e-bc7473584a46",
   "metadata": {},
   "outputs": [],
   "source": [
    "Y=data_df['NO_FURTHER_ACTION_DATE']-data_df['BEGIN_DATE']"
   ]
  },
  {
   "cell_type": "code",
   "execution_count": 304,
   "id": "283bf567-54ba-4483-99a3-394998817d3a",
   "metadata": {},
   "outputs": [],
   "source": [
    "data_df['DAYS_TO_NO_FURTHER_ACTION']=Y"
   ]
  },
  {
   "cell_type": "markdown",
   "id": "c345efca-34a9-4744-8873-6fd32cf57cb0",
   "metadata": {},
   "source": [
    "## i) Average days to report leak by county "
   ]
  },
  {
   "cell_type": "code",
   "execution_count": 305,
   "id": "b7974f5b-0074-4278-a12e-5948fabaedf0",
   "metadata": {},
   "outputs": [
    {
     "name": "stdout",
     "output_type": "stream",
     "text": [
      "<class 'pandas.core.series.Series'>\n",
      "Index: 58 entries, San Francisco to Santa Cruz\n",
      "Series name: DAYS_TO_REPORT_LEAK\n",
      "Non-Null Count  Dtype\n",
      "--------------  -----\n",
      "58 non-null     int64\n",
      "dtypes: int64(1)\n",
      "memory usage: 928.0+ bytes\n"
     ]
    }
   ],
   "source": [
    "leak_date_df=data_df.groupby('COUNTY')['DAYS_TO_REPORT_LEAK'].mean().sort_values(ascending=False)\n",
    "leak_days_df=leak_date_df.dt.days\n",
    "leak_days_df.info()"
   ]
  },
  {
   "cell_type": "code",
   "execution_count": 306,
   "id": "a37f498f-0465-48e1-bd04-7fa72ff54e5f",
   "metadata": {},
   "outputs": [
    {
     "data": {
      "text/plain": [
       "COUNTY\n",
       "San Francisco   5728 days 11:38:36.144578304\n",
       "Yuba            3505 days 20:52:10.434782592\n",
       "Sutter                    2684 days 10:03:00\n",
       "Glenn           1994 days 13:10:59.154929568\n",
       "Stanislaus      1781 days 15:31:37.978227072\n",
       "Name: DAYS_TO_REPORT_LEAK, dtype: timedelta64[ns]"
      ]
     },
     "execution_count": 306,
     "metadata": {},
     "output_type": "execute_result"
    }
   ],
   "source": [
    "leak_date_df.head()"
   ]
  },
  {
   "cell_type": "code",
   "execution_count": 350,
   "id": "6c5f37dc-d25c-46e9-a992-388cc74a3da0",
   "metadata": {},
   "outputs": [
    {
     "data": {
      "image/png": "[encoded data removed]",
      "text/plain": [
       "<Figure size 800x400 with 1 Axes>"
      ]
     },
     "metadata": {},
     "output_type": "display_data"
    }
   ],
   "source": [
    "fig=leak_days_df.head(5).plot(kind='barh', color='salmon', xlabel='Days to Report Leak', figsize=(8,4))\n",
    "#fig = plt.figure()\n",
    "#fig.patch.set_facecolor('blue')\n",
    "#!pip install rembg\n",
    "plt.tight_layout(rect=[None,None, None,None])\n",
    "plt.xlabel('Days to Fix Leak',color='white', fontweight='bold')\n",
    "plt.ylabel('County',color='white', fontweight='bold')\n",
    "plt.xticks(color='white', fontweight='bold')\n",
    "plt.yticks(color='white', fontweight='bold')\n",
    "plt.savefig(\"chart1.reportleak.png\", transparent=True)"
   ]
  },
  {
   "cell_type": "markdown",
   "id": "b4d80cbe-3b66-4b7c-93c8-0b3f031e655a",
   "metadata": {},
   "source": [
    "## ii) Average days to no further action"
   ]
  },
  {
   "cell_type": "code",
   "execution_count": 308,
   "id": "58d8c11d-060d-411f-a56a-c8b6e0792a53",
   "metadata": {},
   "outputs": [],
   "source": [
    "no_further_action_df=data_df.groupby('COUNTY')['DAYS_TO_NO_FURTHER_ACTION'].mean().sort_values(ascending=False)\n",
    "no_further_action_days_df=no_further_action_df.dt.days"
   ]
  },
  {
   "cell_type": "code",
   "execution_count": 351,
   "id": "9e0a3840-2548-4941-ae19-034e3c670d79",
   "metadata": {},
   "outputs": [
    {
     "data": {
      "image/png": "[encoded data removed]",
      "text/plain": [
       "<Figure size 800x400 with 1 Axes>"
      ]
     },
     "metadata": {},
     "output_type": "display_data"
    }
   ],
   "source": [
    "no_further_action_days_df.head(5).plot(kind='barh',color='salmon', fontsize=10, figsize=(8,4))\n",
    "#fig = plt.figure()\n",
    "#fig.patch.set_facecolor('blue')\n",
    "#!pip install rembg\n",
    "plt.tight_layout(rect=[None,None, None,None])\n",
    "plt.xlabel('Days to Fix Leak',color='white', fontweight='bold')\n",
    "plt.ylabel('County',color='white', fontweight='bold')\n",
    "plt.xticks(color='white', fontweight='bold')\n",
    "plt.yticks(color='white', fontweight='bold')\n",
    "plt.savefig(\"chart2.fixleak.png\", transparent=True)"
   ]
  },
  {
   "cell_type": "markdown",
   "id": "4da1ecb7-3c81-4173-8a3d-f1a1e7eba0bd",
   "metadata": {},
   "source": [
    "# Q2 Which company had the most leaks"
   ]
  },
  {
   "cell_type": "code",
   "execution_count": 310,
   "id": "68e6cec7-10f4-4aff-811c-255282fffc62",
   "metadata": {},
   "outputs": [
    {
     "data": {
      "text/plain": [
       "Index(['GLOBAL_ID', 'BUSINESS_NAME', 'STREET_NUMBER', 'STREET_NAME', 'CITY',\n",
       "       'STATE', 'ZIP', 'COUNTY', 'EPA_REGION', 'LATITUDE', 'LONGITUDE',\n",
       "       'COORDINATE_SOURCE', 'CASE_TYPE', 'STATUS', 'STATUS_DATE', 'CLAIM_NO',\n",
       "       'CLAIM_STATUS', 'LEAD_AGENCY', 'CASEWORKER', 'LOCAL_AGENCY',\n",
       "       'RB_CASE_NUMBER', 'LOC_CASE_NUMBER', 'FILE_LOCATION',\n",
       "       'POTENTIAL_CONTAMINANTS_OF_CONCERN', 'QUANTITY_RELEASED_GALLONS',\n",
       "       'POTENTIAL_MEDIA_OF_CONCERN', 'SITE_HISTORY', 'BEGIN_DATE',\n",
       "       'LEAK_REPORTED_DATE', 'HOW_DISCOVERED', 'HOW_DISCOVERED_DESCRIPTION',\n",
       "       'DISCHARGE_SOURCE', 'DISCHARGE_CAUSE', 'STOP_METHOD',\n",
       "       'STOP_DESCRIPTION', 'NO_FURTHER_ACTION_DATE', 'CALWATER_WATERSHED_NAME',\n",
       "       'DWR_GROUNDWATER_SUBBASIN_NAME', 'DISADVANTAGED_COMMUNITY',\n",
       "       'CALENVIROSCREEN3_SCORE', 'CALENVIROSCREEN4_SCORE', 'MILITARY_DOD_SITE',\n",
       "       'FACILITY_PROJECT_SUBTYPE', 'RWQCB_REGION', 'DAYS_TO_REPORT_LEAK',\n",
       "       'DAYS_TO_NO_FURTHER_ACTION'],\n",
       "      dtype='object')"
      ]
     },
     "execution_count": 310,
     "metadata": {},
     "output_type": "execute_result"
    }
   ],
   "source": [
    "data_df.columns"
   ]
  },
  {
   "cell_type": "code",
   "execution_count": 311,
   "id": "c87623a5-43bd-4117-b4e0-a0f4f422a6a2",
   "metadata": {},
   "outputs": [],
   "source": [
    "business_leaks_df=pd.DataFrame(data_df.groupby(['BUSINESS_NAME'])['GLOBAL_ID'].count().sort_values(ascending=False))"
   ]
  },
  {
   "cell_type": "code",
   "execution_count": 312,
   "id": "c1e5d0e0-fbd1-47b6-ab38-ac49cf419a03",
   "metadata": {},
   "outputs": [
    {
     "data": {
      "text/plain": [
       "<Axes: xlabel='Number of Leaks', ylabel='BUSINESS_NAME'>"
      ]
     },
     "execution_count": 312,
     "metadata": {},
     "output_type": "execute_result"
    },
    {
     "data": {
      "image/png": "[encoded data removed]",
      "text/plain": [
       "<Figure size 640x480 with 1 Axes>"
      ]
     },
     "metadata": {},
     "output_type": "display_data"
    }
   ],
   "source": [
    "business_leaks_df.head(5).plot(kind='barh', xlabel=\"Number of Leaks\", color='darkslategrey')"
   ]
  },
  {
   "cell_type": "markdown",
   "id": "239758c8-d447-4a17-b2e2-f5ec27eaee47",
   "metadata": {},
   "source": [
    "# Q3 Which companies didnt disclose the types of contaminants that leaked"
   ]
  },
  {
   "cell_type": "code",
   "execution_count": 313,
   "id": "c65be081-0340-47d8-9273-9e62fe74323c",
   "metadata": {},
   "outputs": [
    {
     "data": {
      "text/plain": [
       "Index(['GLOBAL_ID', 'BUSINESS_NAME', 'STREET_NUMBER', 'STREET_NAME', 'CITY',\n",
       "       'STATE', 'ZIP', 'COUNTY', 'EPA_REGION', 'LATITUDE', 'LONGITUDE',\n",
       "       'COORDINATE_SOURCE', 'CASE_TYPE', 'STATUS', 'STATUS_DATE', 'CLAIM_NO',\n",
       "       'CLAIM_STATUS', 'LEAD_AGENCY', 'CASEWORKER', 'LOCAL_AGENCY',\n",
       "       'RB_CASE_NUMBER', 'LOC_CASE_NUMBER', 'FILE_LOCATION',\n",
       "       'POTENTIAL_CONTAMINANTS_OF_CONCERN', 'QUANTITY_RELEASED_GALLONS',\n",
       "       'POTENTIAL_MEDIA_OF_CONCERN', 'SITE_HISTORY', 'BEGIN_DATE',\n",
       "       'LEAK_REPORTED_DATE', 'HOW_DISCOVERED', 'HOW_DISCOVERED_DESCRIPTION',\n",
       "       'DISCHARGE_SOURCE', 'DISCHARGE_CAUSE', 'STOP_METHOD',\n",
       "       'STOP_DESCRIPTION', 'NO_FURTHER_ACTION_DATE', 'CALWATER_WATERSHED_NAME',\n",
       "       'DWR_GROUNDWATER_SUBBASIN_NAME', 'DISADVANTAGED_COMMUNITY',\n",
       "       'CALENVIROSCREEN3_SCORE', 'CALENVIROSCREEN4_SCORE', 'MILITARY_DOD_SITE',\n",
       "       'FACILITY_PROJECT_SUBTYPE', 'RWQCB_REGION', 'DAYS_TO_REPORT_LEAK',\n",
       "       'DAYS_TO_NO_FURTHER_ACTION'],\n",
       "      dtype='object')"
      ]
     },
     "execution_count": 313,
     "metadata": {},
     "output_type": "execute_result"
    }
   ],
   "source": [
    "data_df.columns"
   ]
  },
  {
   "cell_type": "code",
   "execution_count": 314,
   "id": "8aac6e3f-2376-4f1e-a5bd-3829641efb68",
   "metadata": {},
   "outputs": [],
   "source": [
    "data_df['BOOL']=data_df['POTENTIAL_CONTAMINANTS_OF_CONCERN'].isnull()"
   ]
  },
  {
   "cell_type": "code",
   "execution_count": 315,
   "id": "547ba9ff-0604-47a9-be53-4a4fbcfc75e0",
   "metadata": {},
   "outputs": [],
   "source": [
    "missing_contam_df=data_df[['BUSINESS_NAME','COUNTY','CITY','POTENTIAL_CONTAMINANTS_OF_CONCERN','BOOL']]"
   ]
  },
  {
   "cell_type": "code",
   "execution_count": 316,
   "id": "fc102f8a-20e9-41bf-baf9-c9ebcf7a51d9",
   "metadata": {},
   "outputs": [],
   "source": [
    "county_missing_contam_df=missing_contam_df[missing_contam_df['BOOL']==True] "
   ]
  },
  {
   "cell_type": "code",
   "execution_count": 317,
   "id": "11ac61b9-33db-4b0a-9b80-c65f3e267645",
   "metadata": {},
   "outputs": [
    {
     "data": {
      "text/plain": [
       "<Axes: ylabel='COUNTY'>"
      ]
     },
     "execution_count": 317,
     "metadata": {},
     "output_type": "execute_result"
    },
    {
     "data": {
      "image/png": "[encoded data removed]",
      "text/plain": [
       "<Figure size 640x480 with 1 Axes>"
      ]
     },
     "metadata": {},
     "output_type": "display_data"
    }
   ],
   "source": [
    "county_missing_contam_df.groupby('COUNTY')['BUSINESS_NAME'].count().sort_values(ascending=False).head(5).plot(kind='barh')"
   ]
  },
  {
   "cell_type": "markdown",
   "id": "14cdf545-c4fe-4cfc-9465-967d5c08933e",
   "metadata": {},
   "source": [
    "# Q4 Difference in calscore3 and 4? What does it signify "
   ]
  },
  {
   "cell_type": "code",
   "execution_count": 318,
   "id": "70dc766e-aa98-45a9-9ee8-20ba257200d2",
   "metadata": {},
   "outputs": [
    {
     "data": {
      "text/plain": [
       "Index(['GLOBAL_ID', 'BUSINESS_NAME', 'STREET_NUMBER', 'STREET_NAME', 'CITY',\n",
       "       'STATE', 'ZIP', 'COUNTY', 'EPA_REGION', 'LATITUDE', 'LONGITUDE',\n",
       "       'COORDINATE_SOURCE', 'CASE_TYPE', 'STATUS', 'STATUS_DATE', 'CLAIM_NO',\n",
       "       'CLAIM_STATUS', 'LEAD_AGENCY', 'CASEWORKER', 'LOCAL_AGENCY',\n",
       "       'RB_CASE_NUMBER', 'LOC_CASE_NUMBER', 'FILE_LOCATION',\n",
       "       'POTENTIAL_CONTAMINANTS_OF_CONCERN', 'QUANTITY_RELEASED_GALLONS',\n",
       "       'POTENTIAL_MEDIA_OF_CONCERN', 'SITE_HISTORY', 'BEGIN_DATE',\n",
       "       'LEAK_REPORTED_DATE', 'HOW_DISCOVERED', 'HOW_DISCOVERED_DESCRIPTION',\n",
       "       'DISCHARGE_SOURCE', 'DISCHARGE_CAUSE', 'STOP_METHOD',\n",
       "       'STOP_DESCRIPTION', 'NO_FURTHER_ACTION_DATE', 'CALWATER_WATERSHED_NAME',\n",
       "       'DWR_GROUNDWATER_SUBBASIN_NAME', 'DISADVANTAGED_COMMUNITY',\n",
       "       'CALENVIROSCREEN3_SCORE', 'CALENVIROSCREEN4_SCORE', 'MILITARY_DOD_SITE',\n",
       "       'FACILITY_PROJECT_SUBTYPE', 'RWQCB_REGION', 'DAYS_TO_REPORT_LEAK',\n",
       "       'DAYS_TO_NO_FURTHER_ACTION', 'BOOL'],\n",
       "      dtype='object')"
      ]
     },
     "execution_count": 318,
     "metadata": {},
     "output_type": "execute_result"
    }
   ],
   "source": [
    "data_df.columns"
   ]
  },
  {
   "cell_type": "code",
   "execution_count": 319,
   "id": "356b4a70-46f1-4e38-bf2c-1e3412e8a6b3",
   "metadata": {},
   "outputs": [],
   "source": [
    "#actual correct df\n",
    "no_null_scores=data_df[['BUSINESS_NAME','COUNTY','CITY','CALENVIROSCREEN3_SCORE','CALENVIROSCREEN4_SCORE']][data_df['CALENVIROSCREEN3_SCORE'].notna() & data_df['CALENVIROSCREEN4_SCORE'].notna()]"
   ]
  },
  {
   "cell_type": "code",
   "execution_count": 320,
   "id": "ea3ba7dc-dc6b-48b6-9ee3-2f47370df711",
   "metadata": {},
   "outputs": [],
   "source": [
    "XY=no_null_scores['CALENVIROSCREEN3_SCORE'].apply(lambda value: value.split()[0].split('-')[1].split('%')[0])"
   ]
  },
  {
   "cell_type": "code",
   "execution_count": 321,
   "id": "9489c769-951a-492a-9d79-2be562ffd083",
   "metadata": {},
   "outputs": [],
   "source": [
    "no_null_scores['CALENVIROSCREEN3_SCORE']=XY.apply(int)\n"
   ]
  },
  {
   "cell_type": "code",
   "execution_count": 322,
   "id": "1e174c21-c819-4414-8736-a04ac49236b8",
   "metadata": {},
   "outputs": [],
   "source": [
    "ZX=no_null_scores['CALENVIROSCREEN4_SCORE'].apply(lambda value: value.split()[0].split('-')[1].split('%')[0])"
   ]
  },
  {
   "cell_type": "code",
   "execution_count": 323,
   "id": "e5a04aae-2e54-42f6-9de6-fe675711d100",
   "metadata": {},
   "outputs": [],
   "source": [
    "no_null_scores['CALENVIROSCREEN4_SCORE']=ZX.apply(int)"
   ]
  },
  {
   "cell_type": "code",
   "execution_count": 324,
   "id": "944fcafe-e1d1-424a-b5c3-56db85967d14",
   "metadata": {},
   "outputs": [
    {
     "data": {
      "text/html": [
       "<div>\n",
       "<style scoped>\n",
       "    .dataframe tbody tr th:only-of-type {\n",
       "        vertical-align: middle;\n",
       "    }\n",
       "\n",
       "    .dataframe tbody tr th {\n",
       "        vertical-align: top;\n",
       "    }\n",
       "\n",
       "    .dataframe thead th {\n",
       "        text-align: right;\n",
       "    }\n",
       "</style>\n",
       "<table border=\"1\" class=\"dataframe\">\n",
       "  <thead>\n",
       "    <tr style=\"text-align: right;\">\n",
       "      <th></th>\n",
       "      <th>BUSINESS_NAME</th>\n",
       "      <th>COUNTY</th>\n",
       "      <th>CITY</th>\n",
       "      <th>CALENVIROSCREEN3_SCORE</th>\n",
       "      <th>CALENVIROSCREEN4_SCORE</th>\n",
       "    </tr>\n",
       "  </thead>\n",
       "  <tbody>\n",
       "    <tr>\n",
       "      <th>0</th>\n",
       "      <td>Fort Hunter Liggett - Fort Hunter Liggett - La...</td>\n",
       "      <td>Monterey</td>\n",
       "      <td>Jolon</td>\n",
       "      <td>45</td>\n",
       "      <td>50</td>\n",
       "    </tr>\n",
       "    <tr>\n",
       "      <th>1</th>\n",
       "      <td>Mcphail'S</td>\n",
       "      <td>Sonoma</td>\n",
       "      <td>Santa Rosa</td>\n",
       "      <td>25</td>\n",
       "      <td>25</td>\n",
       "    </tr>\n",
       "    <tr>\n",
       "      <th>2</th>\n",
       "      <td>San Luis Obispo Wwtp</td>\n",
       "      <td>San Luis Obispo</td>\n",
       "      <td>San Luis Obispo</td>\n",
       "      <td>20</td>\n",
       "      <td>40</td>\n",
       "    </tr>\n",
       "    <tr>\n",
       "      <th>3</th>\n",
       "      <td>Smothers Deluxe Shell</td>\n",
       "      <td>Merced</td>\n",
       "      <td>Merced</td>\n",
       "      <td>95</td>\n",
       "      <td>100</td>\n",
       "    </tr>\n",
       "    <tr>\n",
       "      <th>4</th>\n",
       "      <td>One Lawrence Station</td>\n",
       "      <td>Santa Clara</td>\n",
       "      <td>Santa Clara</td>\n",
       "      <td>40</td>\n",
       "      <td>40</td>\n",
       "    </tr>\n",
       "    <tr>\n",
       "      <th>...</th>\n",
       "      <td>...</td>\n",
       "      <td>...</td>\n",
       "      <td>...</td>\n",
       "      <td>...</td>\n",
       "      <td>...</td>\n",
       "    </tr>\n",
       "    <tr>\n",
       "      <th>75058</th>\n",
       "      <td>Chevron Pipeline Co - Former Standard Oil Pipe...</td>\n",
       "      <td>Stanislaus</td>\n",
       "      <td>Patterson</td>\n",
       "      <td>85</td>\n",
       "      <td>65</td>\n",
       "    </tr>\n",
       "    <tr>\n",
       "      <th>75059</th>\n",
       "      <td>Camp Pendleton Marine Corps Base (Mcb) - Ou 3 ...</td>\n",
       "      <td>San Diego</td>\n",
       "      <td>Camp Pendleton</td>\n",
       "      <td>30</td>\n",
       "      <td>50</td>\n",
       "    </tr>\n",
       "    <tr>\n",
       "      <th>75060</th>\n",
       "      <td>Cdf Hopland</td>\n",
       "      <td>Mendocino</td>\n",
       "      <td>Hopland</td>\n",
       "      <td>20</td>\n",
       "      <td>15</td>\n",
       "    </tr>\n",
       "    <tr>\n",
       "      <th>75061</th>\n",
       "      <td>Imperial Beach Naval Auxiliary Landing Field (...</td>\n",
       "      <td>San Diego</td>\n",
       "      <td>Imperial Beach</td>\n",
       "      <td>30</td>\n",
       "      <td>60</td>\n",
       "    </tr>\n",
       "    <tr>\n",
       "      <th>75062</th>\n",
       "      <td>Vietnam Veterans Of Sd</td>\n",
       "      <td>San Diego</td>\n",
       "      <td>San Diego</td>\n",
       "      <td>65</td>\n",
       "      <td>60</td>\n",
       "    </tr>\n",
       "  </tbody>\n",
       "</table>\n",
       "<p>69502 rows × 5 columns</p>\n",
       "</div>"
      ],
      "text/plain": [
       "                                           BUSINESS_NAME           COUNTY  \\\n",
       "0      Fort Hunter Liggett - Fort Hunter Liggett - La...         Monterey   \n",
       "1                                              Mcphail'S           Sonoma   \n",
       "2                                   San Luis Obispo Wwtp  San Luis Obispo   \n",
       "3                                  Smothers Deluxe Shell           Merced   \n",
       "4                                   One Lawrence Station      Santa Clara   \n",
       "...                                                  ...              ...   \n",
       "75058  Chevron Pipeline Co - Former Standard Oil Pipe...       Stanislaus   \n",
       "75059  Camp Pendleton Marine Corps Base (Mcb) - Ou 3 ...        San Diego   \n",
       "75060                                        Cdf Hopland        Mendocino   \n",
       "75061  Imperial Beach Naval Auxiliary Landing Field (...        San Diego   \n",
       "75062                             Vietnam Veterans Of Sd        San Diego   \n",
       "\n",
       "                  CITY  CALENVIROSCREEN3_SCORE  CALENVIROSCREEN4_SCORE  \n",
       "0                Jolon                      45                      50  \n",
       "1           Santa Rosa                      25                      25  \n",
       "2      San Luis Obispo                      20                      40  \n",
       "3               Merced                      95                     100  \n",
       "4          Santa Clara                      40                      40  \n",
       "...                ...                     ...                     ...  \n",
       "75058        Patterson                      85                      65  \n",
       "75059   Camp Pendleton                      30                      50  \n",
       "75060          Hopland                      20                      15  \n",
       "75061   Imperial Beach                      30                      60  \n",
       "75062        San Diego                      65                      60  \n",
       "\n",
       "[69502 rows x 5 columns]"
      ]
     },
     "execution_count": 324,
     "metadata": {},
     "output_type": "execute_result"
    }
   ],
   "source": [
    "no_null_scores"
   ]
  },
  {
   "cell_type": "code",
   "execution_count": 325,
   "id": "a3027dd8-0f62-4477-b6a5-7f72b29d833b",
   "metadata": {},
   "outputs": [],
   "source": [
    "no_null_scores['SCORE_DIFF_%']=no_null_scores['CALENVIROSCREEN4_SCORE']-no_null_scores['CALENVIROSCREEN3_SCORE']"
   ]
  },
  {
   "cell_type": "code",
   "execution_count": 326,
   "id": "2ca6fbca-a1a7-4940-bd93-3f67da32fb0a",
   "metadata": {},
   "outputs": [
    {
     "data": {
      "text/html": [
       "<div>\n",
       "<style scoped>\n",
       "    .dataframe tbody tr th:only-of-type {\n",
       "        vertical-align: middle;\n",
       "    }\n",
       "\n",
       "    .dataframe tbody tr th {\n",
       "        vertical-align: top;\n",
       "    }\n",
       "\n",
       "    .dataframe thead th {\n",
       "        text-align: right;\n",
       "    }\n",
       "</style>\n",
       "<table border=\"1\" class=\"dataframe\">\n",
       "  <thead>\n",
       "    <tr style=\"text-align: right;\">\n",
       "      <th></th>\n",
       "      <th>BUSINESS_NAME</th>\n",
       "      <th>COUNTY</th>\n",
       "      <th>CITY</th>\n",
       "      <th>CALENVIROSCREEN3_SCORE</th>\n",
       "      <th>CALENVIROSCREEN4_SCORE</th>\n",
       "      <th>SCORE_DIFF_%</th>\n",
       "    </tr>\n",
       "  </thead>\n",
       "  <tbody>\n",
       "    <tr>\n",
       "      <th>0</th>\n",
       "      <td>Fort Hunter Liggett - Fort Hunter Liggett - La...</td>\n",
       "      <td>Monterey</td>\n",
       "      <td>Jolon</td>\n",
       "      <td>45</td>\n",
       "      <td>50</td>\n",
       "      <td>5</td>\n",
       "    </tr>\n",
       "    <tr>\n",
       "      <th>1</th>\n",
       "      <td>Mcphail'S</td>\n",
       "      <td>Sonoma</td>\n",
       "      <td>Santa Rosa</td>\n",
       "      <td>25</td>\n",
       "      <td>25</td>\n",
       "      <td>0</td>\n",
       "    </tr>\n",
       "    <tr>\n",
       "      <th>2</th>\n",
       "      <td>San Luis Obispo Wwtp</td>\n",
       "      <td>San Luis Obispo</td>\n",
       "      <td>San Luis Obispo</td>\n",
       "      <td>20</td>\n",
       "      <td>40</td>\n",
       "      <td>20</td>\n",
       "    </tr>\n",
       "    <tr>\n",
       "      <th>3</th>\n",
       "      <td>Smothers Deluxe Shell</td>\n",
       "      <td>Merced</td>\n",
       "      <td>Merced</td>\n",
       "      <td>95</td>\n",
       "      <td>100</td>\n",
       "      <td>5</td>\n",
       "    </tr>\n",
       "    <tr>\n",
       "      <th>4</th>\n",
       "      <td>One Lawrence Station</td>\n",
       "      <td>Santa Clara</td>\n",
       "      <td>Santa Clara</td>\n",
       "      <td>40</td>\n",
       "      <td>40</td>\n",
       "      <td>0</td>\n",
       "    </tr>\n",
       "    <tr>\n",
       "      <th>...</th>\n",
       "      <td>...</td>\n",
       "      <td>...</td>\n",
       "      <td>...</td>\n",
       "      <td>...</td>\n",
       "      <td>...</td>\n",
       "      <td>...</td>\n",
       "    </tr>\n",
       "    <tr>\n",
       "      <th>75058</th>\n",
       "      <td>Chevron Pipeline Co - Former Standard Oil Pipe...</td>\n",
       "      <td>Stanislaus</td>\n",
       "      <td>Patterson</td>\n",
       "      <td>85</td>\n",
       "      <td>65</td>\n",
       "      <td>-20</td>\n",
       "    </tr>\n",
       "    <tr>\n",
       "      <th>75059</th>\n",
       "      <td>Camp Pendleton Marine Corps Base (Mcb) - Ou 3 ...</td>\n",
       "      <td>San Diego</td>\n",
       "      <td>Camp Pendleton</td>\n",
       "      <td>30</td>\n",
       "      <td>50</td>\n",
       "      <td>20</td>\n",
       "    </tr>\n",
       "    <tr>\n",
       "      <th>75060</th>\n",
       "      <td>Cdf Hopland</td>\n",
       "      <td>Mendocino</td>\n",
       "      <td>Hopland</td>\n",
       "      <td>20</td>\n",
       "      <td>15</td>\n",
       "      <td>-5</td>\n",
       "    </tr>\n",
       "    <tr>\n",
       "      <th>75061</th>\n",
       "      <td>Imperial Beach Naval Auxiliary Landing Field (...</td>\n",
       "      <td>San Diego</td>\n",
       "      <td>Imperial Beach</td>\n",
       "      <td>30</td>\n",
       "      <td>60</td>\n",
       "      <td>30</td>\n",
       "    </tr>\n",
       "    <tr>\n",
       "      <th>75062</th>\n",
       "      <td>Vietnam Veterans Of Sd</td>\n",
       "      <td>San Diego</td>\n",
       "      <td>San Diego</td>\n",
       "      <td>65</td>\n",
       "      <td>60</td>\n",
       "      <td>-5</td>\n",
       "    </tr>\n",
       "  </tbody>\n",
       "</table>\n",
       "<p>69502 rows × 6 columns</p>\n",
       "</div>"
      ],
      "text/plain": [
       "                                           BUSINESS_NAME           COUNTY  \\\n",
       "0      Fort Hunter Liggett - Fort Hunter Liggett - La...         Monterey   \n",
       "1                                              Mcphail'S           Sonoma   \n",
       "2                                   San Luis Obispo Wwtp  San Luis Obispo   \n",
       "3                                  Smothers Deluxe Shell           Merced   \n",
       "4                                   One Lawrence Station      Santa Clara   \n",
       "...                                                  ...              ...   \n",
       "75058  Chevron Pipeline Co - Former Standard Oil Pipe...       Stanislaus   \n",
       "75059  Camp Pendleton Marine Corps Base (Mcb) - Ou 3 ...        San Diego   \n",
       "75060                                        Cdf Hopland        Mendocino   \n",
       "75061  Imperial Beach Naval Auxiliary Landing Field (...        San Diego   \n",
       "75062                             Vietnam Veterans Of Sd        San Diego   \n",
       "\n",
       "                  CITY  CALENVIROSCREEN3_SCORE  CALENVIROSCREEN4_SCORE  \\\n",
       "0                Jolon                      45                      50   \n",
       "1           Santa Rosa                      25                      25   \n",
       "2      San Luis Obispo                      20                      40   \n",
       "3               Merced                      95                     100   \n",
       "4          Santa Clara                      40                      40   \n",
       "...                ...                     ...                     ...   \n",
       "75058        Patterson                      85                      65   \n",
       "75059   Camp Pendleton                      30                      50   \n",
       "75060          Hopland                      20                      15   \n",
       "75061   Imperial Beach                      30                      60   \n",
       "75062        San Diego                      65                      60   \n",
       "\n",
       "       SCORE_DIFF_%  \n",
       "0                 5  \n",
       "1                 0  \n",
       "2                20  \n",
       "3                 5  \n",
       "4                 0  \n",
       "...             ...  \n",
       "75058           -20  \n",
       "75059            20  \n",
       "75060            -5  \n",
       "75061            30  \n",
       "75062            -5  \n",
       "\n",
       "[69502 rows x 6 columns]"
      ]
     },
     "execution_count": 326,
     "metadata": {},
     "output_type": "execute_result"
    }
   ],
   "source": [
    "no_null_scores"
   ]
  },
  {
   "cell_type": "code",
   "execution_count": 327,
   "id": "a4974c71-2fc1-4c37-8565-ec0c6c7dd1ed",
   "metadata": {},
   "outputs": [
    {
     "data": {
      "text/plain": [
       "21       -5\n",
       "24       -5\n",
       "43       -5\n",
       "45      -10\n",
       "54      -15\n",
       "         ..\n",
       "75051   -15\n",
       "75054   -15\n",
       "75058   -20\n",
       "75060    -5\n",
       "75062    -5\n",
       "Name: SCORE_DIFF_%, Length: 25434, dtype: int64"
      ]
     },
     "execution_count": 327,
     "metadata": {},
     "output_type": "execute_result"
    }
   ],
   "source": [
    "no_null_scores['SCORE_DIFF_%'][no_null_scores['SCORE_DIFF_%']<0]"
   ]
  },
  {
   "cell_type": "code",
   "execution_count": 328,
   "id": "bf5dfd49-6489-41f0-ab2f-cb90def457d8",
   "metadata": {},
   "outputs": [
    {
     "data": {
      "text/plain": [
       "<Axes: ylabel='COUNTY'>"
      ]
     },
     "execution_count": 328,
     "metadata": {},
     "output_type": "execute_result"
    },
    {
     "data": {
      "image/png": "[encoded data removed]",
      "text/plain": [
       "<Figure size 640x480 with 1 Axes>"
      ]
     },
     "metadata": {},
     "output_type": "display_data"
    }
   ],
   "source": [
    "no_null_scores.groupby('COUNTY')['SCORE_DIFF_%'].mean().sort_values(ascending=False).head(10).plot(kind='barh') #positives"
   ]
  },
  {
   "cell_type": "code",
   "execution_count": 329,
   "id": "c97e5588-da1f-46e3-8a91-bc1246b4e5a2",
   "metadata": {
    "scrolled": true
   },
   "outputs": [
    {
     "data": {
      "text/plain": [
       "<Axes: ylabel='COUNTY'>"
      ]
     },
     "execution_count": 329,
     "metadata": {},
     "output_type": "execute_result"
    },
    {
     "data": {
      "image/png": "[encoded data removed]",
      "text/plain": [
       "<Figure size 640x480 with 1 Axes>"
      ]
     },
     "metadata": {},
     "output_type": "display_data"
    }
   ],
   "source": [
    "no_null_scores.groupby('COUNTY')['SCORE_DIFF_%'].mean().sort_values(ascending=True).head(10).plot(kind='barh',x=\"COUNTY\",y='SCORE_DIFF_%') #negatives"
   ]
  },
  {
   "cell_type": "code",
   "execution_count": 330,
   "id": "0eeca888-15e6-4961-9b50-601c33ad9d2e",
   "metadata": {},
   "outputs": [
    {
     "data": {
      "text/plain": [
       "<Axes: ylabel='COUNTY'>"
      ]
     },
     "execution_count": 330,
     "metadata": {},
     "output_type": "execute_result"
    },
    {
     "data": {
      "image/png": "[encoded data removed]",
      "text/plain": [
       "<Figure size 640x480 with 1 Axes>"
      ]
     },
     "metadata": {},
     "output_type": "display_data"
    }
   ],
   "source": [
    "zero_perc_diff_df=no_null_scores[no_null_scores['SCORE_DIFF_%']==0]\n",
    "zero_perc_diff_df.COUNTY.value_counts().head(10).plot(kind='barh')\n",
    "\n",
    "#zero_perc_diff_df[['COUNTY','']].value_counts().head(10).plot(kind='barh')"
   ]
  },
  {
   "cell_type": "code",
   "execution_count": null,
   "id": "619265b9-eaba-4945-8aee-c6834f0bfdc3",
   "metadata": {},
   "outputs": [],
   "source": []
  },
  {
   "cell_type": "markdown",
   "id": "e2dbec03-e99a-40fe-a2d9-5a9a26cb30f3",
   "metadata": {},
   "source": [
    "# Q5 EXCEL PLOTTING Where are the disadvantaged and severely disadvantaged communities by county?"
   ]
  },
  {
   "cell_type": "code",
   "execution_count": 331,
   "id": "a9912734-4abb-4856-9a27-747182cc32d2",
   "metadata": {},
   "outputs": [],
   "source": [
    "\n",
    "DAC_df=data_df[data_df['DISADVANTAGED_COMMUNITY']=='Disadvantaged Community']"
   ]
  },
  {
   "cell_type": "code",
   "execution_count": 332,
   "id": "5f7b7063-27a6-4bcc-ab52-e8ea6ec40870",
   "metadata": {},
   "outputs": [],
   "source": [
    "SDAC_df=data_df[data_df['DISADVANTAGED_COMMUNITY']=='Severely Disadvantaged Community']"
   ]
  },
  {
   "cell_type": "code",
   "execution_count": 333,
   "id": "98e7ecf6-048b-4c14-9539-d485086fdade",
   "metadata": {},
   "outputs": [],
   "source": [
    "DAC_by_COUNTY_df=pd.DataFrame(DAC_df.groupby('COUNTY')['DISADVANTAGED_COMMUNITY'].count().sort_values(ascending=False))"
   ]
  },
  {
   "cell_type": "code",
   "execution_count": 334,
   "id": "ece59caf-b0e9-463c-adf8-32c8f17cfd6f",
   "metadata": {},
   "outputs": [],
   "source": [
    "SDAC_by_COUNTY_df=pd.DataFrame(SDAC_df.groupby('COUNTY')['DISADVANTAGED_COMMUNITY'].count().sort_values(ascending=False))"
   ]
  },
  {
   "cell_type": "code",
   "execution_count": 353,
   "id": "e7a4d614-a52b-40c9-8f6a-0853e3f3a514",
   "metadata": {},
   "outputs": [
    {
     "data": {
      "image/png": "[encoded data removed]",
      "text/plain": [
       "<Figure size 800x400 with 1 Axes>"
      ]
     },
     "metadata": {},
     "output_type": "display_data"
    }
   ],
   "source": [
    "discounty=DAC_by_COUNTY_df.head(5).plot(kind='barh',color='salmon', fontsize=10, figsize=(8,4),legend=False)\n",
    "plt.tight_layout(rect=[None,None, None,None])\n",
    "plt.xlabel('Distribution',color='white', fontweight='bold')\n",
    "plt.ylabel('County',color='white', fontweight='bold')\n",
    "plt.xticks(color='white', fontweight='bold')\n",
    "plt.yticks(color='white', fontweight='bold')\n",
    "plt.savefig(\"chart4.disCounty.png\", transparent=True)\n"
   ]
  },
  {
   "cell_type": "code",
   "execution_count": 354,
   "id": "36f70edb-7b6e-40f0-a230-fb209748fecc",
   "metadata": {},
   "outputs": [
    {
     "data": {
      "image/png": "[encoded data removed]",
      "text/plain": [
       "<Figure size 800x400 with 1 Axes>"
      ]
     },
     "metadata": {},
     "output_type": "display_data"
    }
   ],
   "source": [
    "sdiscounty=SDAC_by_COUNTY_df.head(5).plot(kind='barh',color='salmon', fontsize=10, figsize=(8,4), legend=False)\n",
    "plt.tight_layout(rect=[None,None, None,None])\n",
    "plt.xlabel('Distribution',color='white', fontweight='bold')\n",
    "plt.ylabel('County',color='white', fontweight='bold')\n",
    "plt.xticks(color='white', fontweight='bold')\n",
    "plt.yticks(color='white', fontweight='bold')\n",
    "plt.savefig(\"chart5.SdisCounty.png\", transparent=True)\n"
   ]
  },
  {
   "cell_type": "code",
   "execution_count": 337,
   "id": "1bee3e81-1aaf-44eb-8bb6-20763a515bd6",
   "metadata": {},
   "outputs": [
    {
     "data": {
      "text/plain": [
       "DISADVANTAGED_COMMUNITY\n",
       "Severely Disadvantaged Community    7355\n",
       "Disadvantaged Community             6605\n",
       "Name: count, dtype: int64"
      ]
     },
     "execution_count": 337,
     "metadata": {},
     "output_type": "execute_result"
    }
   ],
   "source": [
    "mass=data_df['DISADVANTAGED_COMMUNITY'].value_counts()\n",
    "mass\n",
    "#data_df.plot.pie(y='mass')"
   ]
  },
  {
   "cell_type": "markdown",
   "id": "52ee92a9-02a2-483a-8dd7-a029f06cc395",
   "metadata": {},
   "source": [
    "# Q6 Most common contaminants?"
   ]
  },
  {
   "cell_type": "code",
   "execution_count": 338,
   "id": "831e6177-04e2-4c62-b0cc-39b2e46fcd31",
   "metadata": {},
   "outputs": [
    {
     "data": {
      "text/plain": [
       "Index(['GLOBAL_ID', 'BUSINESS_NAME', 'STREET_NUMBER', 'STREET_NAME', 'CITY',\n",
       "       'STATE', 'ZIP', 'COUNTY', 'EPA_REGION', 'LATITUDE', 'LONGITUDE',\n",
       "       'COORDINATE_SOURCE', 'CASE_TYPE', 'STATUS', 'STATUS_DATE', 'CLAIM_NO',\n",
       "       'CLAIM_STATUS', 'LEAD_AGENCY', 'CASEWORKER', 'LOCAL_AGENCY',\n",
       "       'RB_CASE_NUMBER', 'LOC_CASE_NUMBER', 'FILE_LOCATION',\n",
       "       'POTENTIAL_CONTAMINANTS_OF_CONCERN', 'QUANTITY_RELEASED_GALLONS',\n",
       "       'POTENTIAL_MEDIA_OF_CONCERN', 'SITE_HISTORY', 'BEGIN_DATE',\n",
       "       'LEAK_REPORTED_DATE', 'HOW_DISCOVERED', 'HOW_DISCOVERED_DESCRIPTION',\n",
       "       'DISCHARGE_SOURCE', 'DISCHARGE_CAUSE', 'STOP_METHOD',\n",
       "       'STOP_DESCRIPTION', 'NO_FURTHER_ACTION_DATE', 'CALWATER_WATERSHED_NAME',\n",
       "       'DWR_GROUNDWATER_SUBBASIN_NAME', 'DISADVANTAGED_COMMUNITY',\n",
       "       'CALENVIROSCREEN3_SCORE', 'CALENVIROSCREEN4_SCORE', 'MILITARY_DOD_SITE',\n",
       "       'FACILITY_PROJECT_SUBTYPE', 'RWQCB_REGION', 'DAYS_TO_REPORT_LEAK',\n",
       "       'DAYS_TO_NO_FURTHER_ACTION', 'BOOL'],\n",
       "      dtype='object')"
      ]
     },
     "execution_count": 338,
     "metadata": {},
     "output_type": "execute_result"
    }
   ],
   "source": [
    "data_df.columns"
   ]
  },
  {
   "cell_type": "code",
   "execution_count": 380,
   "id": "a986cd5a-be90-4a10-9598-c09295140468",
   "metadata": {},
   "outputs": [
    {
     "data": {
      "image/png": "[encoded data removed]",
      "text/plain": [
       "<Figure size 800x400 with 1 Axes>"
      ]
     },
     "metadata": {},
     "output_type": "display_data"
    },
    {
     "data": {
      "image/png": "[encoded data removed]",
      "text/plain": [
       "<Figure size 800x400 with 1 Axes>"
      ]
     },
     "metadata": {},
     "output_type": "display_data"
    },
    {
     "data": {
      "image/png": "[encoded data removed]",
      "text/plain": [
       "<Figure size 800x400 with 1 Axes>"
      ]
     },
     "metadata": {},
     "output_type": "display_data"
    },
    {
     "data": {
      "image/png": "[encoded data removed]",
      "text/plain": [
       "<Figure size 800x400 with 1 Axes>"
      ]
     },
     "metadata": {},
     "output_type": "display_data"
    },
    {
     "data": {
      "image/png": "[encoded data removed]",
      "text/plain": [
       "<Figure size 800x400 with 1 Axes>"
      ]
     },
     "metadata": {},
     "output_type": "display_data"
    }
   ],
   "source": [
    "# Juan's example\n",
    "#Step 1: get a list with the top contaminants\n",
    "top5_contaminants = data_df.POTENTIAL_CONTAMINANTS_OF_CONCERN.value_counts().index.tolist()[:5] #[0]#[1]\n",
    "# print(top5_contaminants)\n",
    "from PIL import Image\n",
    "import os\n",
    "#Step 2: filter the data and only get records that have those contaminants\n",
    "top5_filter = data_df['POTENTIAL_CONTAMINANTS_OF_CONCERN'].isin(top5_contaminants) #.dropna().apply(lambda x: x in top5_contaminants)\n",
    "# print(top5_filter.head())\n",
    "lim = 5\n",
    "for i in top5_contaminants:\n",
    "    data_df[data_df['POTENTIAL_CONTAMINANTS_OF_CONCERN'] == i].groupby(['CITY'])[\"GLOBAL_ID\"].count().sort_values(ascending=False).head(lim).plot(kind='barh', title=f\"Top {lim} cities with contaminant {i}\",color='salmon', fontsize=10, figsize=(8,4))\n",
    "    plt.tight_layout(rect=[None,None, None,None])\n",
    "    plt.xlabel('Contaminant',color='white', fontweight='bold')\n",
    "    plt.ylabel('County',color='white', fontweight='bold')\n",
    "    plt.xticks(color='white', fontweight='bold')\n",
    "    plt.yticks(color='white', fontweight='bold')\n",
    "    filename= f'Chartsss{i[0]}.png'\n",
    "    plt.savefig(filename, transparent=True)\n",
    "    plt.show()\n",
    "\n",
    "    #table.to_frame()# top_cont_df.info()"
   ]
  },
  {
   "cell_type": "code",
   "execution_count": 341,
   "id": "f9064936-faae-4510-9b8b-f3a48351f07a",
   "metadata": {},
   "outputs": [],
   "source": [
    "#pot_cont=data_df.POTENTIAL_CONTAMINANTS_OF_CONCERN.value_counts().head(12)\n",
    "#pot_cont.to_csv(\"ContaminatTop12Data.csv\")"
   ]
  },
  {
   "cell_type": "markdown",
   "id": "5c378861-d493-4777-ac29-14900a6da2d9",
   "metadata": {},
   "source": [
    "# Q7 Volume of leaks by county\n"
   ]
  },
  {
   "cell_type": "code",
   "execution_count": 358,
   "id": "8261edc8-d65f-4ffc-ab50-f649a83b918f",
   "metadata": {},
   "outputs": [],
   "source": [
    "leak_vol_df=data_df.groupby('COUNTY')['QUANTITY_RELEASED_GALLONS'].mean().sort_values(ascending=False)"
   ]
  },
  {
   "cell_type": "code",
   "execution_count": 359,
   "id": "047f2b5f-aebd-45f0-ac19-bd0b81e9b42e",
   "metadata": {},
   "outputs": [
    {
     "data": {
      "text/plain": [
       "<Axes: ylabel='COUNTY'>"
      ]
     },
     "execution_count": 359,
     "metadata": {},
     "output_type": "execute_result"
    },
    {
     "data": {
      "image/png": "[encoded data removed]",
      "text/plain": [
       "<Figure size 640x480 with 1 Axes>"
      ]
     },
     "metadata": {},
     "output_type": "display_data"
    }
   ],
   "source": [
    "leak_vol_df.head(10).plot(kind='barh')"
   ]
  },
  {
   "cell_type": "markdown",
   "id": "f793a8f1-8bf7-4469-b0db-1c6ff2fb9889",
   "metadata": {},
   "source": [
    "# Q8 correlation of days to report, repair, vol of contam, and disadvantaged"
   ]
  },
  {
   "cell_type": "code",
   "execution_count": 360,
   "id": "3d2aaf07-ef42-4f45-9005-e8cf8e22ea92",
   "metadata": {},
   "outputs": [
    {
     "name": "stdout",
     "output_type": "stream",
     "text": [
      "<class 'pandas.core.frame.DataFrame'>\n",
      "RangeIndex: 75063 entries, 0 to 75062\n",
      "Data columns (total 47 columns):\n",
      " #   Column                             Non-Null Count  Dtype          \n",
      "---  ------                             --------------  -----          \n",
      " 0   GLOBAL_ID                          75063 non-null  object         \n",
      " 1   BUSINESS_NAME                      75059 non-null  object         \n",
      " 2   STREET_NUMBER                      63339 non-null  object         \n",
      " 3   STREET_NAME                        73457 non-null  object         \n",
      " 4   CITY                               75023 non-null  object         \n",
      " 5   STATE                              75063 non-null  object         \n",
      " 6   ZIP                                70748 non-null  object         \n",
      " 7   COUNTY                             75056 non-null  object         \n",
      " 8   EPA_REGION                         75063 non-null  int64          \n",
      " 9   LATITUDE                           74437 non-null  float64        \n",
      " 10  LONGITUDE                          74437 non-null  float64        \n",
      " 11  COORDINATE_SOURCE                  60899 non-null  object         \n",
      " 12  CASE_TYPE                          75063 non-null  object         \n",
      " 13  STATUS                             75063 non-null  object         \n",
      " 14  STATUS_DATE                        75060 non-null  datetime64[ns] \n",
      " 15  CLAIM_NO                           19103 non-null  object         \n",
      " 16  CLAIM_STATUS                       19103 non-null  object         \n",
      " 17  LEAD_AGENCY                        74220 non-null  object         \n",
      " 18  CASEWORKER                         49154 non-null  object         \n",
      " 19  LOCAL_AGENCY                       39042 non-null  object         \n",
      " 20  RB_CASE_NUMBER                     57014 non-null  object         \n",
      " 21  LOC_CASE_NUMBER                    35780 non-null  object         \n",
      " 22  FILE_LOCATION                      38210 non-null  object         \n",
      " 23  POTENTIAL_CONTAMINANTS_OF_CONCERN  56064 non-null  object         \n",
      " 24  QUANTITY_RELEASED_GALLONS          6927 non-null   float64        \n",
      " 25  POTENTIAL_MEDIA_OF_CONCERN         56241 non-null  object         \n",
      " 26  SITE_HISTORY                       21873 non-null  object         \n",
      " 27  BEGIN_DATE                         71202 non-null  datetime64[ns] \n",
      " 28  LEAK_REPORTED_DATE                 54371 non-null  datetime64[ns] \n",
      " 29  HOW_DISCOVERED                     35346 non-null  object         \n",
      " 30  HOW_DISCOVERED_DESCRIPTION         5914 non-null   object         \n",
      " 31  DISCHARGE_SOURCE                   31166 non-null  object         \n",
      " 32  DISCHARGE_CAUSE                    30548 non-null  object         \n",
      " 33  STOP_METHOD                        17719 non-null  object         \n",
      " 34  STOP_DESCRIPTION                   5867 non-null   object         \n",
      " 35  NO_FURTHER_ACTION_DATE             58411 non-null  datetime64[ns] \n",
      " 36  CALWATER_WATERSHED_NAME            72376 non-null  object         \n",
      " 37  DWR_GROUNDWATER_SUBBASIN_NAME      61621 non-null  object         \n",
      " 38  DISADVANTAGED_COMMUNITY            13960 non-null  object         \n",
      " 39  CALENVIROSCREEN3_SCORE             70115 non-null  object         \n",
      " 40  CALENVIROSCREEN4_SCORE             69806 non-null  object         \n",
      " 41  MILITARY_DOD_SITE                  75063 non-null  object         \n",
      " 42  FACILITY_PROJECT_SUBTYPE           2497 non-null   object         \n",
      " 43  RWQCB_REGION                       72639 non-null  object         \n",
      " 44  DAYS_TO_REPORT_LEAK                54092 non-null  timedelta64[ns]\n",
      " 45  DAYS_TO_NO_FURTHER_ACTION          56871 non-null  timedelta64[ns]\n",
      " 46  BOOL                               75063 non-null  bool           \n",
      "dtypes: bool(1), datetime64[ns](4), float64(3), int64(1), object(36), timedelta64[ns](2)\n",
      "memory usage: 26.4+ MB\n"
     ]
    }
   ],
   "source": [
    "data_df.info()"
   ]
  },
  {
   "cell_type": "code",
   "execution_count": 361,
   "id": "b5cbeedd-0330-40e0-b1de-062da5ccf8e4",
   "metadata": {},
   "outputs": [],
   "source": [
    "corr_df=data_df[['DAYS_TO_REPORT_LEAK','DAYS_TO_NO_FURTHER_ACTION', 'BOOL']]"
   ]
  },
  {
   "cell_type": "code",
   "execution_count": 362,
   "id": "63348968-0f27-4765-9803-308c686bce74",
   "metadata": {},
   "outputs": [
    {
     "name": "stdout",
     "output_type": "stream",
     "text": [
      "<class 'pandas.core.frame.DataFrame'>\n",
      "RangeIndex: 75063 entries, 0 to 75062\n",
      "Data columns (total 3 columns):\n",
      " #   Column                     Non-Null Count  Dtype          \n",
      "---  ------                     --------------  -----          \n",
      " 0   DAYS_TO_REPORT_LEAK        54092 non-null  timedelta64[ns]\n",
      " 1   DAYS_TO_NO_FURTHER_ACTION  56871 non-null  timedelta64[ns]\n",
      " 2   BOOL                       75063 non-null  bool           \n",
      "dtypes: bool(1), timedelta64[ns](2)\n",
      "memory usage: 1.2 MB\n"
     ]
    }
   ],
   "source": [
    "corr_df.info()"
   ]
  },
  {
   "cell_type": "code",
   "execution_count": 363,
   "id": "3e36d2da-5e6a-4b6b-8f21-aae441667506",
   "metadata": {},
   "outputs": [],
   "source": [
    "import seaborn as sns"
   ]
  },
  {
   "cell_type": "code",
   "execution_count": 364,
   "id": "f1e93ac7-734b-4b44-8284-980d529b8853",
   "metadata": {},
   "outputs": [
    {
     "data": {
      "image/png": "[encoded data removed]",
      "text/plain": [
       "<Figure size 640x480 with 2 Axes>"
      ]
     },
     "metadata": {},
     "output_type": "display_data"
    }
   ],
   "source": [
    "sns.heatmap(corr_df.corr(numeric_only=False), annot=True)\n",
    "plt.savefig('Q8heatmap.png')"
   ]
  },
  {
   "cell_type": "code",
   "execution_count": 365,
   "id": "fc571f07-3abe-4b18-958d-7d3d74215e4a",
   "metadata": {},
   "outputs": [
    {
     "name": "stdout",
     "output_type": "stream",
     "text": [
      "<class 'pandas.core.series.Series'>\n",
      "RangeIndex: 75063 entries, 0 to 75062\n",
      "Series name: DAYS_TO_REPORT_LEAK\n",
      "Non-Null Count  Dtype          \n",
      "--------------  -----          \n",
      "54092 non-null  timedelta64[ns]\n",
      "dtypes: timedelta64[ns](1)\n",
      "memory usage: 586.6 KB\n"
     ]
    }
   ],
   "source": [
    "data_df.DAYS_TO_REPORT_LEAK.info()"
   ]
  },
  {
   "cell_type": "code",
   "execution_count": 366,
   "id": "28d89177-0965-46b6-93fe-ec2eedc1176f",
   "metadata": {},
   "outputs": [
    {
     "name": "stdout",
     "output_type": "stream",
     "text": [
      "['STATUS_DATE', 'BEGIN_DATE', 'LEAK_REPORTED_DATE', 'NO_FURTHER_ACTION_DATE', 'DAYS_TO_REPORT_LEAK']\n"
     ]
    }
   ],
   "source": [
    "columns_2_display = [c for c in data_df.columns if \"DATE\" in c] + [\"DAYS_TO_REPORT_LEAK\"] #.extend(\n",
    "print(columns_2_display)"
   ]
  },
  {
   "cell_type": "code",
   "execution_count": 367,
   "id": "dbf7eb60-04da-4ed6-b47f-54032c9d3975",
   "metadata": {},
   "outputs": [
    {
     "data": {
      "text/html": [
       "<div>\n",
       "<style scoped>\n",
       "    .dataframe tbody tr th:only-of-type {\n",
       "        vertical-align: middle;\n",
       "    }\n",
       "\n",
       "    .dataframe tbody tr th {\n",
       "        vertical-align: top;\n",
       "    }\n",
       "\n",
       "    .dataframe thead th {\n",
       "        text-align: right;\n",
       "    }\n",
       "</style>\n",
       "<table border=\"1\" class=\"dataframe\">\n",
       "  <thead>\n",
       "    <tr style=\"text-align: right;\">\n",
       "      <th></th>\n",
       "      <th>STATUS_DATE</th>\n",
       "      <th>BEGIN_DATE</th>\n",
       "      <th>LEAK_REPORTED_DATE</th>\n",
       "      <th>NO_FURTHER_ACTION_DATE</th>\n",
       "      <th>DAYS_TO_REPORT_LEAK</th>\n",
       "    </tr>\n",
       "  </thead>\n",
       "  <tbody>\n",
       "    <tr>\n",
       "      <th>24</th>\n",
       "      <td>2017-06-13</td>\n",
       "      <td>2007-03-30</td>\n",
       "      <td>2007-04-04</td>\n",
       "      <td>NaT</td>\n",
       "      <td>-5 days</td>\n",
       "    </tr>\n",
       "    <tr>\n",
       "      <th>29</th>\n",
       "      <td>2011-01-18</td>\n",
       "      <td>1991-01-30</td>\n",
       "      <td>1991-04-30</td>\n",
       "      <td>NaT</td>\n",
       "      <td>-90 days</td>\n",
       "    </tr>\n",
       "    <tr>\n",
       "      <th>43</th>\n",
       "      <td>2024-05-24</td>\n",
       "      <td>2003-12-05</td>\n",
       "      <td>2004-02-11</td>\n",
       "      <td>NaT</td>\n",
       "      <td>-68 days</td>\n",
       "    </tr>\n",
       "    <tr>\n",
       "      <th>46</th>\n",
       "      <td>2023-11-02</td>\n",
       "      <td>2004-04-13</td>\n",
       "      <td>2004-05-06</td>\n",
       "      <td>NaT</td>\n",
       "      <td>-23 days</td>\n",
       "    </tr>\n",
       "    <tr>\n",
       "      <th>47</th>\n",
       "      <td>2017-08-30</td>\n",
       "      <td>1989-08-02</td>\n",
       "      <td>1989-08-25</td>\n",
       "      <td>NaT</td>\n",
       "      <td>-23 days</td>\n",
       "    </tr>\n",
       "    <tr>\n",
       "      <th>...</th>\n",
       "      <td>...</td>\n",
       "      <td>...</td>\n",
       "      <td>...</td>\n",
       "      <td>...</td>\n",
       "      <td>...</td>\n",
       "    </tr>\n",
       "    <tr>\n",
       "      <th>75049</th>\n",
       "      <td>1996-01-22</td>\n",
       "      <td>1992-03-09</td>\n",
       "      <td>1994-01-24</td>\n",
       "      <td>1996-01-22</td>\n",
       "      <td>-686 days</td>\n",
       "    </tr>\n",
       "    <tr>\n",
       "      <th>75051</th>\n",
       "      <td>2001-09-05</td>\n",
       "      <td>1999-02-03</td>\n",
       "      <td>1999-04-22</td>\n",
       "      <td>2001-09-05</td>\n",
       "      <td>-78 days</td>\n",
       "    </tr>\n",
       "    <tr>\n",
       "      <th>75052</th>\n",
       "      <td>1987-12-03</td>\n",
       "      <td>1987-07-14</td>\n",
       "      <td>1987-08-13</td>\n",
       "      <td>1987-12-03</td>\n",
       "      <td>-30 days</td>\n",
       "    </tr>\n",
       "    <tr>\n",
       "      <th>75055</th>\n",
       "      <td>2002-02-26</td>\n",
       "      <td>1990-05-21</td>\n",
       "      <td>1994-12-03</td>\n",
       "      <td>2002-02-26</td>\n",
       "      <td>-1657 days</td>\n",
       "    </tr>\n",
       "    <tr>\n",
       "      <th>75061</th>\n",
       "      <td>2009-04-01</td>\n",
       "      <td>2007-07-29</td>\n",
       "      <td>2008-04-17</td>\n",
       "      <td>2009-04-01</td>\n",
       "      <td>-263 days</td>\n",
       "    </tr>\n",
       "  </tbody>\n",
       "</table>\n",
       "<p>25300 rows × 5 columns</p>\n",
       "</div>"
      ],
      "text/plain": [
       "      STATUS_DATE BEGIN_DATE LEAK_REPORTED_DATE NO_FURTHER_ACTION_DATE  \\\n",
       "24     2017-06-13 2007-03-30         2007-04-04                    NaT   \n",
       "29     2011-01-18 1991-01-30         1991-04-30                    NaT   \n",
       "43     2024-05-24 2003-12-05         2004-02-11                    NaT   \n",
       "46     2023-11-02 2004-04-13         2004-05-06                    NaT   \n",
       "47     2017-08-30 1989-08-02         1989-08-25                    NaT   \n",
       "...           ...        ...                ...                    ...   \n",
       "75049  1996-01-22 1992-03-09         1994-01-24             1996-01-22   \n",
       "75051  2001-09-05 1999-02-03         1999-04-22             2001-09-05   \n",
       "75052  1987-12-03 1987-07-14         1987-08-13             1987-12-03   \n",
       "75055  2002-02-26 1990-05-21         1994-12-03             2002-02-26   \n",
       "75061  2009-04-01 2007-07-29         2008-04-17             2009-04-01   \n",
       "\n",
       "      DAYS_TO_REPORT_LEAK  \n",
       "24                -5 days  \n",
       "29               -90 days  \n",
       "43               -68 days  \n",
       "46               -23 days  \n",
       "47               -23 days  \n",
       "...                   ...  \n",
       "75049           -686 days  \n",
       "75051            -78 days  \n",
       "75052            -30 days  \n",
       "75055          -1657 days  \n",
       "75061           -263 days  \n",
       "\n",
       "[25300 rows x 5 columns]"
      ]
     },
     "execution_count": 367,
     "metadata": {},
     "output_type": "execute_result"
    }
   ],
   "source": [
    "data_df[columns_2_display][data_df['DAYS_TO_REPORT_LEAK'].dt.days<0]"
   ]
  },
  {
   "cell_type": "code",
   "execution_count": 368,
   "id": "f84896ff-4ef8-421f-a7bd-83259150016b",
   "metadata": {},
   "outputs": [
    {
     "data": {
      "text/html": [
       "<div>\n",
       "<style scoped>\n",
       "    .dataframe tbody tr th:only-of-type {\n",
       "        vertical-align: middle;\n",
       "    }\n",
       "\n",
       "    .dataframe tbody tr th {\n",
       "        vertical-align: top;\n",
       "    }\n",
       "\n",
       "    .dataframe thead th {\n",
       "        text-align: right;\n",
       "    }\n",
       "</style>\n",
       "<table border=\"1\" class=\"dataframe\">\n",
       "  <thead>\n",
       "    <tr style=\"text-align: right;\">\n",
       "      <th></th>\n",
       "      <th>LEAK_REPORTED_DATE</th>\n",
       "      <th>BEGIN_DATE</th>\n",
       "      <th>DAYS_TO_REPORT_LEAK</th>\n",
       "    </tr>\n",
       "  </thead>\n",
       "  <tbody>\n",
       "    <tr>\n",
       "      <th>0</th>\n",
       "      <td>NaT</td>\n",
       "      <td>2009-05-11</td>\n",
       "      <td>NaT</td>\n",
       "    </tr>\n",
       "    <tr>\n",
       "      <th>1</th>\n",
       "      <td>NaT</td>\n",
       "      <td>2019-03-06</td>\n",
       "      <td>NaT</td>\n",
       "    </tr>\n",
       "    <tr>\n",
       "      <th>2</th>\n",
       "      <td>NaT</td>\n",
       "      <td>2014-12-01</td>\n",
       "      <td>NaT</td>\n",
       "    </tr>\n",
       "    <tr>\n",
       "      <th>3</th>\n",
       "      <td>2006-02-28</td>\n",
       "      <td>2006-02-28</td>\n",
       "      <td>0 days</td>\n",
       "    </tr>\n",
       "    <tr>\n",
       "      <th>4</th>\n",
       "      <td>2014-11-03</td>\n",
       "      <td>2014-11-03</td>\n",
       "      <td>0 days</td>\n",
       "    </tr>\n",
       "    <tr>\n",
       "      <th>...</th>\n",
       "      <td>...</td>\n",
       "      <td>...</td>\n",
       "      <td>...</td>\n",
       "    </tr>\n",
       "    <tr>\n",
       "      <th>75058</th>\n",
       "      <td>1965-01-02</td>\n",
       "      <td>1998-03-27</td>\n",
       "      <td>12137 days</td>\n",
       "    </tr>\n",
       "    <tr>\n",
       "      <th>75059</th>\n",
       "      <td>NaT</td>\n",
       "      <td>1999-03-31</td>\n",
       "      <td>NaT</td>\n",
       "    </tr>\n",
       "    <tr>\n",
       "      <th>75060</th>\n",
       "      <td>1998-07-06</td>\n",
       "      <td>1998-07-06</td>\n",
       "      <td>0 days</td>\n",
       "    </tr>\n",
       "    <tr>\n",
       "      <th>75061</th>\n",
       "      <td>2008-04-17</td>\n",
       "      <td>2007-07-29</td>\n",
       "      <td>-263 days</td>\n",
       "    </tr>\n",
       "    <tr>\n",
       "      <th>75062</th>\n",
       "      <td>2004-04-16</td>\n",
       "      <td>2004-04-16</td>\n",
       "      <td>0 days</td>\n",
       "    </tr>\n",
       "  </tbody>\n",
       "</table>\n",
       "<p>75063 rows × 3 columns</p>\n",
       "</div>"
      ],
      "text/plain": [
       "      LEAK_REPORTED_DATE BEGIN_DATE DAYS_TO_REPORT_LEAK\n",
       "0                    NaT 2009-05-11                 NaT\n",
       "1                    NaT 2019-03-06                 NaT\n",
       "2                    NaT 2014-12-01                 NaT\n",
       "3             2006-02-28 2006-02-28              0 days\n",
       "4             2014-11-03 2014-11-03              0 days\n",
       "...                  ...        ...                 ...\n",
       "75058         1965-01-02 1998-03-27          12137 days\n",
       "75059                NaT 1999-03-31                 NaT\n",
       "75060         1998-07-06 1998-07-06              0 days\n",
       "75061         2008-04-17 2007-07-29           -263 days\n",
       "75062         2004-04-16 2004-04-16              0 days\n",
       "\n",
       "[75063 rows x 3 columns]"
      ]
     },
     "execution_count": 368,
     "metadata": {},
     "output_type": "execute_result"
    }
   ],
   "source": [
    "data_df[['LEAK_REPORTED_DATE','BEGIN_DATE','DAYS_TO_REPORT_LEAK']]"
   ]
  },
  {
   "cell_type": "code",
   "execution_count": null,
   "id": "a908cdab-d624-4d59-a133-723c472b46e8",
   "metadata": {},
   "outputs": [],
   "source": []
  },
  {
   "cell_type": "code",
   "execution_count": null,
   "id": "852ef559-f8a0-4784-8044-1e00b9147ef7",
   "metadata": {},
   "outputs": [],
   "source": []
  },
  {
   "cell_type": "markdown",
   "id": "41ef0bc4-ac88-4852-a711-a743ed3722c4",
   "metadata": {},
   "source": [
    "### Map Stuff\n",
    "- San Diego -> Top in: Gasoline + Waste Oil / Motor / Hydraulic / Lubricating\n",
    "- San Francisco -> Top in: Diesel + Heating Oil / Fuel Oil\n",
    "- Los angelos -> Top in: Other Solvent or Non-Petroleum Hydrocarbon"
   ]
  },
  {
   "cell_type": "code",
   "execution_count": null,
   "id": "413db4f5-c09a-4ae5-ab59-323eb149895f",
   "metadata": {},
   "outputs": [],
   "source": []
  }
 ],
 "metadata": {
  "kernelspec": {
   "display_name": "Python 3 (ipykernel)",
   "language": "python",
   "name": "python3"
  },
  "language_info": {
   "codemirror_mode": {
    "name": "ipython",
    "version": 3
   },
   "file_extension": ".py",
   "mimetype": "text/x-python",
   "name": "python",
   "nbconvert_exporter": "python",
   "pygments_lexer": "ipython3",
   "version": "3.12.7"
  }
 },
 "nbformat": 4,
 "nbformat_minor": 5
}
